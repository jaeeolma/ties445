{
 "cells": [
  {
   "cell_type": "code",
   "execution_count": 2,
   "metadata": {},
   "outputs": [],
   "source": [
    "import pandas as pd\n",
    "from sklearn.ensemble import RandomForestClassifier\n",
    "from sklearn.model_selection import train_test_split\n",
    "from sklearn.metrics import confusion_matrix\n",
    "from sklearn.metrics import accuracy_score\n",
    "import numpy as np\n",
    "import matplotlib.pyplot as plt\n",
    "import seaborn as sns"
   ]
  },
  {
   "cell_type": "markdown",
   "metadata": {},
   "source": [
    "Start by reading processed data and separating it to features and target. Then we check dimensions to be sure."
   ]
  },
  {
   "cell_type": "code",
   "execution_count": 3,
   "metadata": {},
   "outputs": [
    {
     "name": "stdout",
     "output_type": "stream",
     "text": [
      "Index(['backers_count', 'category', 'country', 'creator', 'currency', 'goal',\n",
      "       'staff_pick', 'state', 'usd_pledged', 'location', 'blurb_length',\n",
      "       'duration'],\n",
      "      dtype='object')\n",
      "(164399, 12)\n"
     ]
    },
    {
     "data": {
      "text/plain": [
       "(164399, 9)"
      ]
     },
     "execution_count": 3,
     "metadata": {},
     "output_type": "execute_result"
    }
   ],
   "source": [
    "dataset = pd.read_csv('finished_processed.csv')\n",
    "print(dataset.keys())\n",
    "print(dataset.shape)\n",
    "dataset.drop(['backers_count', 'usd_pledged'], axis=1, inplace=True)\n",
    "target = dataset['state']\n",
    "features = dataset.drop(['state'], axis=1)\n",
    "features.shape"
   ]
  },
  {
   "cell_type": "code",
   "execution_count": 4,
   "metadata": {},
   "outputs": [
    {
     "name": "stdout",
     "output_type": "stream",
     "text": [
      "1    0.555691\n",
      "0    0.444309\n",
      "Name: state, dtype: float64\n",
      "(123299, 9)\n"
     ]
    }
   ],
   "source": [
    "print(dataset['state'].value_counts(normalize=True))\n",
    "X_train, X_test, y_train, y_test = train_test_split(features, target, random_state=1)\n",
    "print(X_train.shape)"
   ]
  },
  {
   "cell_type": "markdown",
   "metadata": {},
   "source": [
    "Try default settings for random forest classifier with 100 estimators."
   ]
  },
  {
   "cell_type": "code",
   "execution_count": 5,
   "metadata": {},
   "outputs": [
    {
     "data": {
      "text/plain": [
       "RandomForestClassifier(bootstrap=True, class_weight=None, criterion='gini',\n",
       "            max_depth=None, max_features='auto', max_leaf_nodes=None,\n",
       "            min_impurity_decrease=0.0, min_impurity_split=None,\n",
       "            min_samples_leaf=1, min_samples_split=2,\n",
       "            min_weight_fraction_leaf=0.0, n_estimators=100, n_jobs=1,\n",
       "            oob_score=True, random_state=1, verbose=0, warm_start=False)"
      ]
     },
     "execution_count": 5,
     "metadata": {},
     "output_type": "execute_result"
    }
   ],
   "source": [
    "rf = RandomForestClassifier(n_estimators = 100, oob_score = True, random_state=1)\n",
    "rf.fit(X_train, y_train)"
   ]
  },
  {
   "cell_type": "markdown",
   "metadata": {},
   "source": [
    "Check scores for classifier"
   ]
  },
  {
   "cell_type": "code",
   "execution_count": 6,
   "metadata": {},
   "outputs": [
    {
     "name": "stdout",
     "output_type": "stream",
     "text": [
      "0.762530413625\n",
      "0.242921678197\n",
      "[('category', 0.24130480194378823), ('country', 0.013575672081016456), ('creator', 0.15902330531483128), ('currency', 0.012581457093289481), ('goal', 0.1817612428848091), ('staff_pick', 0.073018820785504895), ('location', 0.14273771505637622), ('blurb_length', 0.095292880534396149), ('duration', 0.080704104305988358)]\n"
     ]
    }
   ],
   "source": [
    "predicted = rf.predict(X_test)\n",
    "print(accuracy_score(y_test, predicted))\n",
    "print(1 - rf.oob_score_)\n",
    "importances = [(features.keys()[i], rf.feature_importances_[i]) for i in range(len(features.keys()))]\n",
    "print(importances)"
   ]
  },
  {
   "cell_type": "markdown",
   "metadata": {},
   "source": [
    "Check confusion matrix for classifier"
   ]
  },
  {
   "cell_type": "code",
   "execution_count": 7,
   "metadata": {},
   "outputs": [
    {
     "name": "stdout",
     "output_type": "stream",
     "text": [
      "(41100,)\n"
     ]
    },
    {
     "data": {
      "text/plain": [
       "<matplotlib.axes._subplots.AxesSubplot at 0x1bf0589f9e8>"
      ]
     },
     "execution_count": 7,
     "metadata": {},
     "output_type": "execute_result"
    },
    {
     "data": {
      "image/png": "[encoded data removed]",
      "text/plain": [
       "<matplotlib.figure.Figure at 0x1bf0589f128>"
      ]
     },
     "metadata": {},
     "output_type": "display_data"
    }
   ],
   "source": [
    "from sklearn.metrics import confusion_matrix\n",
    "\n",
    "print(y_test.shape)\n",
    "cfmtx = confusion_matrix(y_test, predicted)\n",
    "sns.heatmap(cfmtx, annot=True, fmt='g', yticklabels=['Failed', 'Successful'], \n",
    "            xticklabels=['Predicted failed', 'Predicted successful'])"
   ]
  },
  {
   "cell_type": "markdown",
   "metadata": {},
   "source": [
    "Optimize metaparameters with randomized search. We could also use grid search, but it takes more time and performance is not significantly better than randomized search."
   ]
  },
  {
   "cell_type": "code",
   "execution_count": 7,
   "metadata": {},
   "outputs": [
    {
     "name": "stdout",
     "output_type": "stream",
     "text": [
      "RandomizedSearchCV(cv=None, error_score='raise',\n",
      "          estimator=RandomForestClassifier(bootstrap=True, class_weight=None, criterion='gini',\n",
      "            max_depth=None, max_features='auto', max_leaf_nodes=None,\n",
      "            min_impurity_decrease=0.0, min_impurity_split=None,\n",
      "            min_samples_leaf=1, min_samples_split=2,\n",
      "            min_weight_fraction_leaf=0.0, n_estimators=100, n_jobs=1,\n",
      "            oob_score=False, random_state=None, verbose=0,\n",
      "            warm_start=False),\n",
      "          fit_params=None, iid=True, n_iter=50, n_jobs=-1,\n",
      "          param_distributions={'n_estimators': [10, 30, 50, 100], 'max_depth': [3, None], 'max_features': [0.8, 'sqrt', None], 'min_samples_split': <scipy.stats._distn_infrastructure.rv_frozen object at 0x0000020300C70CC0>, 'min_samples_leaf': <scipy.stats._distn_infrastructure.rv_frozen object at 0x0000020300C70E10>, 'bootstrap': [True], 'criterion': ['gini', 'entropy'], 'oob_score': [True], 'n_jobs': [-1], 'random_state': [1]},\n",
      "          pre_dispatch='2*n_jobs', random_state=1, refit=True,\n",
      "          return_train_score='warn', scoring=None, verbose=0)\n",
      "0.786778481577\n",
      "RandomForestClassifier(bootstrap=True, class_weight=None, criterion='entropy',\n",
      "            max_depth=None, max_features=None, max_leaf_nodes=None,\n",
      "            min_impurity_decrease=0.0, min_impurity_split=None,\n",
      "            min_samples_leaf=13, min_samples_split=14,\n",
      "            min_weight_fraction_leaf=0.0, n_estimators=100, n_jobs=-1,\n",
      "            oob_score=True, random_state=1, verbose=0, warm_start=False)\n"
     ]
    }
   ],
   "source": [
    "from sklearn.model_selection import RandomizedSearchCV\n",
    "from scipy.stats import randint as sp_randint\n",
    "\n",
    "rf = RandomForestClassifier(n_estimators=100)\n",
    "# We want to have bootstrap=True for oob_error\n",
    "param_dist = {\"n_estimators\": [10, 30, 50, 100],\n",
    "              \"max_depth\": [3, None],\n",
    "              \"max_features\": [0.8, \"sqrt\", None],\n",
    "              \"min_samples_split\": sp_randint(2, 15),\n",
    "              \"min_samples_leaf\": sp_randint(1, 15),\n",
    "              \"bootstrap\": [True],\n",
    "              \"criterion\": [\"gini\", \"entropy\"],\n",
    "              \"oob_score\": [True],\n",
    "              \"n_jobs\": [-1],\n",
    "              \"random_state\": [1]}\n",
    "rsearch = RandomizedSearchCV(estimator=rf, param_distributions=param_dist, n_iter=50, n_jobs=-1, random_state=1)\n",
    "rsearch.fit(X_train, y_train)\n",
    "print(rsearch)\n",
    "# summarize the results of the random parameter search\n",
    "print(rsearch.best_score_)\n",
    "print(rsearch.best_estimator_)"
   ]
  },
  {
   "cell_type": "code",
   "execution_count": 8,
   "metadata": {},
   "outputs": [
    {
     "name": "stdout",
     "output_type": "stream",
     "text": [
      "Model with rank: 1\n",
      "Mean validation score: 0.7868 (std: 0.0010)\n",
      "Parameters: {'bootstrap': True, 'criterion': 'entropy', 'max_depth': None, 'max_features': None, 'min_samples_leaf': 13, 'min_samples_split': 14, 'n_estimators': 100, 'n_jobs': -1, 'oob_score': True, 'random_state': 1}\n",
      "\n",
      "Model with rank: 2\n",
      "Mean validation score: 0.7867 (std: 0.0007)\n",
      "Parameters: {'bootstrap': True, 'criterion': 'entropy', 'max_depth': None, 'max_features': None, 'min_samples_leaf': 8, 'min_samples_split': 9, 'n_estimators': 50, 'n_jobs': -1, 'oob_score': True, 'random_state': 1}\n",
      "\n",
      "Model with rank: 3\n",
      "Mean validation score: 0.7861 (std: 0.0002)\n",
      "Parameters: {'bootstrap': True, 'criterion': 'entropy', 'max_depth': None, 'max_features': None, 'min_samples_leaf': 9, 'min_samples_split': 2, 'n_estimators': 50, 'n_jobs': -1, 'oob_score': True, 'random_state': 1}\n",
      "\n",
      "0.786778481577\n",
      "RandomForestClassifier(bootstrap=True, class_weight=None, criterion='entropy',\n",
      "            max_depth=None, max_features=None, max_leaf_nodes=None,\n",
      "            min_impurity_decrease=0.0, min_impurity_split=None,\n",
      "            min_samples_leaf=13, min_samples_split=14,\n",
      "            min_weight_fraction_leaf=0.0, n_estimators=100, n_jobs=-1,\n",
      "            oob_score=True, random_state=1, verbose=0, warm_start=False)\n"
     ]
    }
   ],
   "source": [
    "def report(results, n_top=3):\n",
    "    for i in range(1, n_top + 1):\n",
    "        candidates = np.flatnonzero(results['rank_test_score'] == i)\n",
    "        for candidate in candidates:\n",
    "            print(\"Model with rank: {0}\".format(i))\n",
    "            print(\"Mean validation score: {0:.4f} (std: {1:.4f})\".format(\n",
    "                  results['mean_test_score'][candidate],\n",
    "                  results['std_test_score'][candidate]))\n",
    "            print(\"Parameters: {0}\".format(results['params'][candidate]))\n",
    "            print(\"\")\n",
    "\n",
    "report(rsearch.cv_results_)\n",
    "print(rsearch.best_score_)\n",
    "print(rsearch.best_estimator_)"
   ]
  },
  {
   "cell_type": "markdown",
   "metadata": {},
   "source": [
    "Select the best estimator to be the one used."
   ]
  },
  {
   "cell_type": "code",
   "execution_count": 8,
   "metadata": {
    "scrolled": true
   },
   "outputs": [
    {
     "name": "stdout",
     "output_type": "stream",
     "text": [
      "0.793090024331\n",
      "0.209985482445\n",
      "[('category', 0.45814502433421384), ('country', 0.0095227359709740989), ('creator', 0.069703325143855119), ('currency', 0.013754640963044788), ('goal', 0.1856175094359824), ('staff_pick', 0.10215003733928889), ('location', 0.069493105060796687), ('blurb_length', 0.041619679216535685), ('duration', 0.049993942535308679)]\n"
     ]
    }
   ],
   "source": [
    "#best = rsearch.best_estimator_\n",
    "best = RandomForestClassifier(bootstrap=True, class_weight=None, criterion='entropy',\n",
    "            max_depth=None, max_features=None, max_leaf_nodes=None,\n",
    "            min_impurity_decrease=0.0, min_impurity_split=None,\n",
    "            min_samples_leaf=13, min_samples_split=14,\n",
    "            min_weight_fraction_leaf=0.0, n_estimators=100, n_jobs=-1,\n",
    "            oob_score=True, random_state=1, verbose=0, warm_start=False)\n",
    "best.fit(X_train, y_train)\n",
    "predicted = best.predict(X_test)\n",
    "print(accuracy_score(y_test, predicted))\n",
    "print(1 - best.oob_score_)\n",
    "importances = [(features.keys()[i], best.feature_importances_[i]) for i in range(len(features.keys()))]\n",
    "print(importances)"
   ]
  },
  {
   "cell_type": "markdown",
   "metadata": {},
   "source": [
    "Drop two of the least significant values and see how it effects performance."
   ]
  },
  {
   "cell_type": "code",
   "execution_count": 10,
   "metadata": {},
   "outputs": [
    {
     "name": "stdout",
     "output_type": "stream",
     "text": [
      "0.794647201946\n",
      "0.207893008054\n",
      "[('category', 0.47808356053245205), ('creator', 0.070891421366851601), ('goal', 0.18670266525553264), ('staff_pick', 0.10080647361138334), ('location', 0.071546549717216468), ('blurb_length', 0.041706393146034443), ('duration', 0.050262936370529449)]\n"
     ]
    }
   ],
   "source": [
    "features.drop(['country', 'currency'], axis=1, inplace=True)\n",
    "X_train, X_test, y_train, y_test = train_test_split(features, target, random_state=1)\n",
    "best.fit(X_train, y_train)\n",
    "predicted = best.predict(X_test)\n",
    "print(accuracy_score(y_test, predicted))\n",
    "print(1 - best.oob_score_)\n",
    "importances = [(features.keys()[i], best.feature_importances_[i]) for i in range(len(features.keys()))]\n",
    "print(importances)"
   ]
  },
  {
   "cell_type": "code",
   "execution_count": 11,
   "metadata": {},
   "outputs": [
    {
     "name": "stdout",
     "output_type": "stream",
     "text": [
      "(41100,)\n"
     ]
    },
    {
     "data": {
      "text/plain": [
       "<matplotlib.axes._subplots.AxesSubplot at 0x1bf070ec4e0>"
      ]
     },
     "execution_count": 11,
     "metadata": {},
     "output_type": "execute_result"
    },
    {
     "data": {
      "image/png": "[encoded data removed]",
      "text/plain": [
       "<matplotlib.figure.Figure at 0x1bf06a68438>"
      ]
     },
     "metadata": {},
     "output_type": "display_data"
    }
   ],
   "source": [
    "print(y_test.shape)\n",
    "cfmtx = confusion_matrix(y_test, predicted)\n",
    "sns.heatmap(cfmtx, annot=True, fmt='g', yticklabels=['Failed', 'Successful'], \n",
    "            xticklabels=['Predicted failed', 'Predicted successful'])"
   ]
  },
  {
   "cell_type": "markdown",
   "metadata": {},
   "source": [
    "Seems that classifier predicts most of our test data correctly, and has a bit more false negatives than false positives.\n",
    "\n",
    "Finally save our classifier so that we can use it again."
   ]
  },
  {
   "cell_type": "code",
   "execution_count": 11,
   "metadata": {},
   "outputs": [
    {
     "data": {
      "text/plain": [
       "['model.pkl']"
      ]
     },
     "execution_count": 11,
     "metadata": {},
     "output_type": "execute_result"
    }
   ],
   "source": [
    "best.fit(features, target)\n",
    "from sklearn.externals import joblib\n",
    "\n",
    "joblib.dump(best, 'model.pkl') \n"
   ]
  }
 ],
 "metadata": {
  "kernelspec": {
   "display_name": "Python 3",
   "language": "python",
   "name": "python3"
  },
  "language_info": {
   "codemirror_mode": {
    "name": "ipython",
    "version": 3
   },
   "file_extension": ".py",
   "mimetype": "text/x-python",
   "name": "python",
   "nbconvert_exporter": "python",
   "pygments_lexer": "ipython3",
   "version": "3.6.4"
  }
 },
 "nbformat": 4,
 "nbformat_minor": 2
}
