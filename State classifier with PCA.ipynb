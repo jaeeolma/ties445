{
 "cells": [
  {
   "cell_type": "code",
   "execution_count": 1,
   "metadata": {},
   "outputs": [],
   "source": [
    "import pandas as pd\n",
    "import numpy as np\n",
    "import matplotlib.pyplot as plt\n",
    "import seaborn as sns\n",
    "from sklearn.decomposition import PCA\n",
    "from sklearn.model_selection import train_test_split\n",
    "from pylab import rcParams"
   ]
  },
  {
   "cell_type": "code",
   "execution_count": 2,
   "metadata": {},
   "outputs": [],
   "source": [
    "%matplotlib inline\n",
    "rcParams['figure.figsize'] = 8,6\n",
    "sns.set_style('whitegrid')"
   ]
  },
  {
   "cell_type": "code",
   "execution_count": 3,
   "metadata": {},
   "outputs": [
    {
     "data": {
      "text/plain": [
       "Index(['category', 'country', 'creator', 'currency', 'goal', 'staff_pick',\n",
       "       'location', 'blurb_length', 'duration'],\n",
       "      dtype='object')"
      ]
     },
     "execution_count": 3,
     "metadata": {},
     "output_type": "execute_result"
    }
   ],
   "source": [
    "dataset = pd.read_csv('finished_processed.csv')\n",
    "dataset.drop(['backers_count', 'usd_pledged'], axis=1, inplace=True)\n",
    "target = dataset['state']\n",
    "features = dataset.drop(['state'], axis=1)\n",
    "feature_names = features.keys()\n",
    "feature_names"
   ]
  },
  {
   "cell_type": "code",
   "execution_count": 10,
   "metadata": {},
   "outputs": [
    {
     "data": {
      "text/plain": [
       "array([  1.00000000e+00,   3.88279233e-11,   5.98940451e-15,\n",
       "         1.23042562e-16,   2.71556420e-18,   2.64903140e-18,\n",
       "         2.48482173e-18,   7.28609137e-19,   2.99694085e-19])"
      ]
     },
     "execution_count": 10,
     "metadata": {},
     "output_type": "execute_result"
    }
   ],
   "source": [
    "pca = PCA()\n",
    "dataset_pca = pca.fit_transform(features)\n",
    "pca.explained_variance_ratio_"
   ]
  },
  {
   "cell_type": "code",
   "execution_count": 11,
   "metadata": {},
   "outputs": [
    {
     "name": "stdout",
     "output_type": "stream",
     "text": [
      "1.0\n"
     ]
    },
    {
     "data": {
      "text/html": [
       "<div>\n",
       "<style scoped>\n",
       "    .dataframe tbody tr th:only-of-type {\n",
       "        vertical-align: middle;\n",
       "    }\n",
       "\n",
       "    .dataframe tbody tr th {\n",
       "        vertical-align: top;\n",
       "    }\n",
       "\n",
       "    .dataframe thead th {\n",
       "        text-align: right;\n",
       "    }\n",
       "</style>\n",
       "<table border=\"1\" class=\"dataframe\">\n",
       "  <thead>\n",
       "    <tr style=\"text-align: right;\">\n",
       "      <th></th>\n",
       "      <th>category</th>\n",
       "      <th>country</th>\n",
       "      <th>creator</th>\n",
       "      <th>currency</th>\n",
       "      <th>goal</th>\n",
       "      <th>staff_pick</th>\n",
       "      <th>location</th>\n",
       "      <th>blurb_length</th>\n",
       "      <th>duration</th>\n",
       "    </tr>\n",
       "  </thead>\n",
       "  <tbody>\n",
       "    <tr>\n",
       "      <th>0</th>\n",
       "      <td>-3.106149e-10</td>\n",
       "      <td>1.125183e-11</td>\n",
       "      <td>1.000000e+00</td>\n",
       "      <td>4.256608e-12</td>\n",
       "      <td>-9.184906e-13</td>\n",
       "      <td>-3.730099e-14</td>\n",
       "      <td>4.013501e-09</td>\n",
       "      <td>-2.388755e-12</td>\n",
       "      <td>-1.734980e-12</td>\n",
       "    </tr>\n",
       "    <tr>\n",
       "      <th>1</th>\n",
       "      <td>5.050901e-05</td>\n",
       "      <td>-3.985366e-05</td>\n",
       "      <td>-4.013485e-09</td>\n",
       "      <td>-2.476963e-05</td>\n",
       "      <td>-3.635610e-07</td>\n",
       "      <td>-3.080914e-08</td>\n",
       "      <td>1.000000e+00</td>\n",
       "      <td>1.136851e-06</td>\n",
       "      <td>5.833781e-06</td>\n",
       "    </tr>\n",
       "    <tr>\n",
       "      <th>2</th>\n",
       "      <td>-9.999885e-01</td>\n",
       "      <td>3.794419e-03</td>\n",
       "      <td>-3.108718e-10</td>\n",
       "      <td>2.749137e-03</td>\n",
       "      <td>-3.357017e-05</td>\n",
       "      <td>1.621408e-04</td>\n",
       "      <td>5.073346e-05</td>\n",
       "      <td>-3.701027e-04</td>\n",
       "      <td>-9.071214e-04</td>\n",
       "    </tr>\n",
       "    <tr>\n",
       "      <th>3</th>\n",
       "      <td>-4.678063e-03</td>\n",
       "      <td>-8.329564e-01</td>\n",
       "      <td>1.045006e-11</td>\n",
       "      <td>-5.532993e-01</td>\n",
       "      <td>1.285930e-03</td>\n",
       "      <td>-1.253239e-03</td>\n",
       "      <td>-4.664309e-05</td>\n",
       "      <td>-2.927291e-03</td>\n",
       "      <td>-3.127615e-03</td>\n",
       "    </tr>\n",
       "    <tr>\n",
       "      <th>4</th>\n",
       "      <td>-8.345498e-04</td>\n",
       "      <td>-4.972605e-06</td>\n",
       "      <td>2.653080e-12</td>\n",
       "      <td>-5.221512e-03</td>\n",
       "      <td>5.354242e-01</td>\n",
       "      <td>-7.823608e-03</td>\n",
       "      <td>-4.415833e-06</td>\n",
       "      <td>5.050568e-01</td>\n",
       "      <td>6.768674e-01</td>\n",
       "    </tr>\n",
       "    <tr>\n",
       "      <th>5</th>\n",
       "      <td>3.712890e-04</td>\n",
       "      <td>3.080060e-03</td>\n",
       "      <td>-9.381597e-13</td>\n",
       "      <td>1.324644e-03</td>\n",
       "      <td>7.853865e-01</td>\n",
       "      <td>3.470902e-03</td>\n",
       "      <td>2.140904e-06</td>\n",
       "      <td>-5.925083e-01</td>\n",
       "      <td>-1.791049e-01</td>\n",
       "    </tr>\n",
       "    <tr>\n",
       "      <th>6</th>\n",
       "      <td>4.086888e-04</td>\n",
       "      <td>-8.044224e-04</td>\n",
       "      <td>6.558124e-13</td>\n",
       "      <td>2.652517e-03</td>\n",
       "      <td>3.106080e-01</td>\n",
       "      <td>-3.225262e-03</td>\n",
       "      <td>3.577466e-06</td>\n",
       "      <td>6.275177e-01</td>\n",
       "      <td>-7.139510e-01</td>\n",
       "    </tr>\n",
       "    <tr>\n",
       "      <th>7</th>\n",
       "      <td>-1.873477e-04</td>\n",
       "      <td>5.533018e-01</td>\n",
       "      <td>-2.755036e-12</td>\n",
       "      <td>-8.329142e-01</td>\n",
       "      <td>-1.997303e-03</td>\n",
       "      <td>-9.181017e-03</td>\n",
       "      <td>1.456644e-06</td>\n",
       "      <td>-2.474702e-04</td>\n",
       "      <td>-4.762993e-03</td>\n",
       "    </tr>\n",
       "    <tr>\n",
       "      <th>8</th>\n",
       "      <td>1.480689e-04</td>\n",
       "      <td>4.022382e-03</td>\n",
       "      <td>1.015194e-13</td>\n",
       "      <td>-8.378465e-03</td>\n",
       "      <td>2.448229e-03</td>\n",
       "      <td>9.999152e-01</td>\n",
       "      <td>-5.294313e-08</td>\n",
       "      <td>8.026613e-03</td>\n",
       "      <td>3.567323e-03</td>\n",
       "    </tr>\n",
       "  </tbody>\n",
       "</table>\n",
       "</div>"
      ],
      "text/plain": [
       "       category       country       creator      currency          goal  \\\n",
       "0 -3.106149e-10  1.125183e-11  1.000000e+00  4.256608e-12 -9.184906e-13   \n",
       "1  5.050901e-05 -3.985366e-05 -4.013485e-09 -2.476963e-05 -3.635610e-07   \n",
       "2 -9.999885e-01  3.794419e-03 -3.108718e-10  2.749137e-03 -3.357017e-05   \n",
       "3 -4.678063e-03 -8.329564e-01  1.045006e-11 -5.532993e-01  1.285930e-03   \n",
       "4 -8.345498e-04 -4.972605e-06  2.653080e-12 -5.221512e-03  5.354242e-01   \n",
       "5  3.712890e-04  3.080060e-03 -9.381597e-13  1.324644e-03  7.853865e-01   \n",
       "6  4.086888e-04 -8.044224e-04  6.558124e-13  2.652517e-03  3.106080e-01   \n",
       "7 -1.873477e-04  5.533018e-01 -2.755036e-12 -8.329142e-01 -1.997303e-03   \n",
       "8  1.480689e-04  4.022382e-03  1.015194e-13 -8.378465e-03  2.448229e-03   \n",
       "\n",
       "     staff_pick      location  blurb_length      duration  \n",
       "0 -3.730099e-14  4.013501e-09 -2.388755e-12 -1.734980e-12  \n",
       "1 -3.080914e-08  1.000000e+00  1.136851e-06  5.833781e-06  \n",
       "2  1.621408e-04  5.073346e-05 -3.701027e-04 -9.071214e-04  \n",
       "3 -1.253239e-03 -4.664309e-05 -2.927291e-03 -3.127615e-03  \n",
       "4 -7.823608e-03 -4.415833e-06  5.050568e-01  6.768674e-01  \n",
       "5  3.470902e-03  2.140904e-06 -5.925083e-01 -1.791049e-01  \n",
       "6 -3.225262e-03  3.577466e-06  6.275177e-01 -7.139510e-01  \n",
       "7 -9.181017e-03  1.456644e-06 -2.474702e-04 -4.762993e-03  \n",
       "8  9.999152e-01 -5.294313e-08  8.026613e-03  3.567323e-03  "
      ]
     },
     "execution_count": 11,
     "metadata": {},
     "output_type": "execute_result"
    }
   ],
   "source": [
    "print(pca.explained_variance_ratio_.sum())\n",
    "components = pd.DataFrame(pca.components_,columns=feature_names)\n",
    "components"
   ]
  },
  {
   "cell_type": "code",
   "execution_count": 12,
   "metadata": {},
   "outputs": [
    {
     "data": {
      "text/plain": [
       "<matplotlib.axes._subplots.AxesSubplot at 0x1e6a688e0b8>"
      ]
     },
     "execution_count": 12,
     "metadata": {},
     "output_type": "execute_result"
    },
    {
     "data": {
      "image/png": "[encoded data removed]",
      "text/plain": [
       "<matplotlib.figure.Figure at 0x1e6a676c438>"
      ]
     },
     "metadata": {},
     "output_type": "display_data"
    }
   ],
   "source": [
    "sns.heatmap(components)"
   ]
  },
  {
   "cell_type": "code",
   "execution_count": 13,
   "metadata": {},
   "outputs": [
    {
     "data": {
      "text/plain": [
       "9"
      ]
     },
     "execution_count": 13,
     "metadata": {},
     "output_type": "execute_result"
    }
   ],
   "source": [
    "from sklearn.ensemble import RandomForestClassifier\n",
    "\n",
    "from sklearn.externals import joblib\n",
    "\n",
    "rf = joblib.load('model.pkl')\n",
    "\n",
    "X_train, X_test, y_train, y_test = train_test_split(features, target, random_state=1)\n",
    "pca.fit(X_train)\n",
    "pca.n_components_"
   ]
  },
  {
   "cell_type": "code",
   "execution_count": 14,
   "metadata": {},
   "outputs": [
    {
     "data": {
      "text/plain": [
       "RandomForestClassifier(bootstrap=True, class_weight=None, criterion='entropy',\n",
       "            max_depth=None, max_features=None, max_leaf_nodes=None,\n",
       "            min_impurity_decrease=0.0, min_impurity_split=None,\n",
       "            min_samples_leaf=13, min_samples_split=14,\n",
       "            min_weight_fraction_leaf=0.0, n_estimators=100, n_jobs=-1,\n",
       "            oob_score=True, random_state=1, verbose=0, warm_start=False)"
      ]
     },
     "execution_count": 14,
     "metadata": {},
     "output_type": "execute_result"
    }
   ],
   "source": [
    "X_train_pca = pca.transform(X_train)\n",
    "X_test_pca = pca.transform(X_test)\n",
    "rf.fit(X_train_pca, y_train)"
   ]
  },
  {
   "cell_type": "code",
   "execution_count": 15,
   "metadata": {},
   "outputs": [
    {
     "name": "stdout",
     "output_type": "stream",
     "text": [
      "0.777396593674\n",
      "0.223237820258\n",
      "[ 0.05662408  0.04234016  0.51506521  0.05893692  0.04518662  0.04768983\n",
      "  0.05002362  0.04494649  0.13918708]\n"
     ]
    }
   ],
   "source": [
    "from sklearn.metrics import accuracy_score\n",
    "predicted = rf.predict(X_test_pca)\n",
    "print(accuracy_score(y_test, predicted))\n",
    "print(1 - rf.oob_score_)\n",
    "print(rf.feature_importances_)"
   ]
  }
 ],
 "metadata": {
  "kernelspec": {
   "display_name": "Python 3",
   "language": "python",
   "name": "python3"
  },
  "language_info": {
   "codemirror_mode": {
    "name": "ipython",
    "version": 3
   },
   "file_extension": ".py",
   "mimetype": "text/x-python",
   "name": "python",
   "nbconvert_exporter": "python",
   "pygments_lexer": "ipython3",
   "version": "3.6.4"
  }
 },
 "nbformat": 4,
 "nbformat_minor": 2
}
