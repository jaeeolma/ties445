{
 "cells": [
  {
   "cell_type": "code",
   "execution_count": 1,
   "metadata": {
    "scrolled": false
   },
   "outputs": [],
   "source": [
    "import pandas as pd\n",
    "import glob\n",
    "\n",
    "pd.options.mode.chained_assignment = None\n",
    "# read files\n",
    "allfiles = glob.glob('Kickstarter_data/*.csv')\n",
    "df = pd.concat((pd.read_csv(f) for f in allfiles), ignore_index=True)\n"
   ]
  },
  {
   "cell_type": "code",
   "execution_count": 2,
   "metadata": {},
   "outputs": [
    {
     "name": "stdout",
     "output_type": "stream",
     "text": [
      "(195614, 37)\n",
      "Index(['backers_count', 'blurb', 'category', 'converted_pledged_amount',\n",
      "       'country', 'created_at', 'creator', 'currency', 'currency_symbol',\n",
      "       'currency_trailing_code', 'current_currency', 'deadline',\n",
      "       'disable_communication', 'fx_rate', 'goal', 'id', 'is_starrable',\n",
      "       'launched_at', 'name', 'photo', 'pledged', 'profile', 'slug',\n",
      "       'source_url', 'spotlight', 'staff_pick', 'state', 'state_changed_at',\n",
      "       'static_usd_rate', 'urls', 'usd_pledged', 'usd_type', 'location',\n",
      "       'friends', 'is_backing', 'is_starred', 'permissions'],\n",
      "      dtype='object')\n",
      "successful    105680\n",
      "failed         73634\n",
      "canceled        8823\n",
      "live            6876\n",
      "suspended        601\n",
      "Name: state, dtype: int64\n",
      "   backers_count                                              blurb  \\\n",
      "0             80  I will be an artist-in-residence at Elsewhere ...   \n",
      "1             47  We are looking to bring a Visiting Sculptor fr...   \n",
      "2             80  Surrealistic oil paintings capturing the metam...   \n",
      "3             82  1000 Artists is a public art-making installati...   \n",
      "4             31  P.M.A.F.T.W. my upcoming solo show June 2012 a...   \n",
      "\n",
      "                                            category  \\\n",
      "0  {\"urls\":{\"web\":{\"discover\":\"http://www.kicksta...   \n",
      "1  {\"urls\":{\"web\":{\"discover\":\"http://www.kicksta...   \n",
      "2  {\"urls\":{\"web\":{\"discover\":\"http://www.kicksta...   \n",
      "3  {\"urls\":{\"web\":{\"discover\":\"http://www.kicksta...   \n",
      "4  {\"urls\":{\"web\":{\"discover\":\"http://www.kicksta...   \n",
      "\n",
      "   converted_pledged_amount country  created_at  \\\n",
      "0                      3596      US  1325980505   \n",
      "1                      4117      US  1330727362   \n",
      "2                      3125      US  1332598567   \n",
      "3                      4586      US  1330926084   \n",
      "4                      1036      US  1332476607   \n",
      "\n",
      "                                             creator currency currency_symbol  \\\n",
      "0  {\"urls\":{\"web\":{\"user\":\"https://www.kickstarte...      USD               $   \n",
      "1  {\"urls\":{\"web\":{\"user\":\"https://www.kickstarte...      USD               $   \n",
      "2  {\"urls\":{\"web\":{\"user\":\"https://www.kickstarte...      USD               $   \n",
      "3  {\"urls\":{\"web\":{\"user\":\"https://www.kickstarte...      USD               $   \n",
      "4  {\"urls\":{\"web\":{\"user\":\"https://www.kickstarte...      USD               $   \n",
      "\n",
      "   currency_trailing_code     ...     state_changed_at  static_usd_rate  \\\n",
      "0                    True     ...           1334866560              1.0   \n",
      "1                    True     ...           1334959598              1.0   \n",
      "2                    True     ...           1334635143              1.0   \n",
      "3                    True     ...           1336440145              1.0   \n",
      "4                    True     ...           1333421843              1.0   \n",
      "\n",
      "                                                urls  usd_pledged  usd_type  \\\n",
      "0  {\"web\":{\"project\":\"https://www.kickstarter.com...       3596.0  domestic   \n",
      "1  {\"web\":{\"project\":\"https://www.kickstarter.com...       4117.0  domestic   \n",
      "2  {\"web\":{\"project\":\"https://www.kickstarter.com...       3125.0  domestic   \n",
      "3  {\"web\":{\"project\":\"https://www.kickstarter.com...       4586.0  domestic   \n",
      "4  {\"web\":{\"project\":\"https://www.kickstarter.com...       1036.0  domestic   \n",
      "\n",
      "                                            location  friends  is_backing  \\\n",
      "0  {\"country\":\"US\",\"urls\":{\"web\":{\"discover\":\"htt...      NaN         NaN   \n",
      "1  {\"country\":\"US\",\"urls\":{\"web\":{\"discover\":\"htt...      NaN         NaN   \n",
      "2  {\"country\":\"US\",\"urls\":{\"web\":{\"discover\":\"htt...      NaN         NaN   \n",
      "3  {\"country\":\"US\",\"urls\":{\"web\":{\"discover\":\"htt...      NaN         NaN   \n",
      "4  {\"country\":\"US\",\"urls\":{\"web\":{\"discover\":\"htt...      NaN         NaN   \n",
      "\n",
      "  is_starred permissions  \n",
      "0        NaN         NaN  \n",
      "1        NaN         NaN  \n",
      "2        NaN         NaN  \n",
      "3        NaN         NaN  \n",
      "4        NaN         NaN  \n",
      "\n",
      "[5 rows x 37 columns]\n",
      "        backers_count                                              blurb  \\\n",
      "195609            143  Voix de Ville is a pop-up imaginarium of neo-v...   \n",
      "195610            329  Help Synetic Theater create a new Studio to pr...   \n",
      "195611            236  After 22 yrs downstairs we are \"getting out of...   \n",
      "195612            226  We plan to transition from 35mm to the new dig...   \n",
      "195613            145  Be part of building Cardiff's first pub theatr...   \n",
      "\n",
      "                                                 category  \\\n",
      "195609  {\"urls\":{\"web\":{\"discover\":\"http://www.kicksta...   \n",
      "195610  {\"urls\":{\"web\":{\"discover\":\"http://www.kicksta...   \n",
      "195611  {\"urls\":{\"web\":{\"discover\":\"http://www.kicksta...   \n",
      "195612  {\"urls\":{\"web\":{\"discover\":\"http://www.kicksta...   \n",
      "195613  {\"urls\":{\"web\":{\"discover\":\"http://www.kicksta...   \n",
      "\n",
      "        converted_pledged_amount country  created_at  \\\n",
      "195609                      7226      US  1366078694   \n",
      "195610                     31683      US  1372177000   \n",
      "195611                     21742      US  1385067433   \n",
      "195612                     18185      US  1398433509   \n",
      "195613                     12639      GB  1398597170   \n",
      "\n",
      "                                                  creator currency  \\\n",
      "195609  {\"urls\":{\"web\":{\"user\":\"https://www.kickstarte...      USD   \n",
      "195610  {\"urls\":{\"web\":{\"user\":\"https://www.kickstarte...      USD   \n",
      "195611  {\"urls\":{\"web\":{\"user\":\"https://www.kickstarte...      USD   \n",
      "195612  {\"urls\":{\"web\":{\"user\":\"https://www.kickstarte...      USD   \n",
      "195613  {\"urls\":{\"web\":{\"user\":\"https://www.kickstarte...      GBP   \n",
      "\n",
      "       currency_symbol  currency_trailing_code     ...     state_changed_at  \\\n",
      "195609               $                    True     ...           1373738434   \n",
      "195610               $                    True     ...           1376654340   \n",
      "195611               $                    True     ...           1388303940   \n",
      "195612               $                    True     ...           1401159610   \n",
      "195613               £                   False     ...           1401465611   \n",
      "\n",
      "        static_usd_rate                                               urls  \\\n",
      "195609         1.000000  {\"web\":{\"project\":\"https://www.kickstarter.com...   \n",
      "195610         1.000000  {\"web\":{\"project\":\"https://www.kickstarter.com...   \n",
      "195611         1.000000  {\"web\":{\"project\":\"https://www.kickstarter.com...   \n",
      "195612         1.000000  {\"web\":{\"project\":\"https://www.kickstarter.com...   \n",
      "195613         1.688074  {\"web\":{\"project\":\"https://www.kickstarter.com...   \n",
      "\n",
      "         usd_pledged  usd_type  \\\n",
      "195609   7226.000000  domestic   \n",
      "195610  31683.000000  domestic   \n",
      "195611  21742.780000  domestic   \n",
      "195612  18185.000000  domestic   \n",
      "195613  12753.401034  domestic   \n",
      "\n",
      "                                                 location  friends  \\\n",
      "195609  {\"country\":\"US\",\"urls\":{\"web\":{\"discover\":\"htt...      NaN   \n",
      "195610  {\"country\":\"US\",\"urls\":{\"web\":{\"discover\":\"htt...      NaN   \n",
      "195611  {\"country\":\"US\",\"urls\":{\"web\":{\"discover\":\"htt...      NaN   \n",
      "195612  {\"country\":\"US\",\"urls\":{\"web\":{\"discover\":\"htt...      NaN   \n",
      "195613  {\"country\":\"GB\",\"urls\":{\"web\":{\"discover\":\"htt...      NaN   \n",
      "\n",
      "        is_backing is_starred permissions  \n",
      "195609         NaN        NaN         NaN  \n",
      "195610         NaN        NaN         NaN  \n",
      "195611         NaN        NaN         NaN  \n",
      "195612         NaN        NaN         NaN  \n",
      "195613         NaN        NaN         NaN  \n",
      "\n",
      "[5 rows x 37 columns]\n"
     ]
    }
   ],
   "source": [
    "# Examine shape\n",
    "print(df.shape)\n",
    "\n",
    "# Examine keys\n",
    "print(df.keys())\n",
    "\n",
    "# Examine state counts\n",
    "print(df.state.value_counts())\n",
    "\n",
    "# Examine head and tail to get an idea of data\n",
    "print(df.head())\n",
    "print(df.tail())"
   ]
  },
  {
   "cell_type": "code",
   "execution_count": 3,
   "metadata": {},
   "outputs": [
    {
     "name": "stdout",
     "output_type": "stream",
     "text": [
      "Index(['backers_count', 'blurb', 'category', 'country', 'created_at',\n",
      "       'creator', 'currency', 'deadline', 'disable_communication', 'fx_rate',\n",
      "       'goal', 'is_starrable', 'launched_at', 'spotlight', 'staff_pick',\n",
      "       'state', 'state_changed_at', 'urls', 'usd_pledged', 'location'],\n",
      "      dtype='object')\n"
     ]
    }
   ],
   "source": [
    "# Filter out unnecessary keys that contain either irrelevant or duplicate information\n",
    "# Such as url for photo, pledged amount in non-USD -currency, etc.\n",
    "# URLS are not dropped, because they can be used to check state from live projects\n",
    "unnecessary_keys = ['currency_symbol', 'currency_trailing_code', 'current_currency', 'id', 'name',\n",
    "                    'photo', 'pledged', 'profile', 'slug', 'source_url', 'static_usd_rate',\n",
    "                    'usd_type', 'friends', 'is_backing', 'is_starred', 'permissions', 'converted_pledged_amount']\n",
    "\n",
    "df.drop(unnecessary_keys, axis=1, inplace = True)\n",
    "print(df.keys())"
   ]
  },
  {
   "cell_type": "code",
   "execution_count": 4,
   "metadata": {},
   "outputs": [],
   "source": [
    "# Clean some features, data is stored as json string\n",
    "import json\n",
    "\n",
    "def filter_json(val, key):\n",
    "    cat = json.loads(val)\n",
    "    return cat[key]\n",
    "\n",
    "# Category, name, location\n",
    "df['category'] = df.apply(lambda row: filter_json(row['category'], 'slug'), axis = 1)\n",
    "df['creator'] = df.apply(lambda row: filter_json(row['creator'], 'id'), axis = 1)\n",
    "df['location'] = df.apply(lambda row: filter_json(row['location'], 'displayable_name') if type(row['location']) != float else '', axis = 1)\n",
    "df['urls'] = df.apply(lambda row: filter_json(row['urls'], 'web'), axis = 1)"
   ]
  },
  {
   "cell_type": "code",
   "execution_count": 5,
   "metadata": {},
   "outputs": [],
   "source": [
    "# Filter blurb to use word count\n",
    "\n",
    "df['blurb_lenght'] = df.apply(lambda row: len(row['blurb'].split()) if type(row['blurb']) != float else 0, axis=1)"
   ]
  },
  {
   "cell_type": "code",
   "execution_count": 6,
   "metadata": {},
   "outputs": [],
   "source": [
    "# Add column 'duration', that contains duration between created_at and deadline in days\n",
    "\n",
    "import datetime\n",
    "\n",
    "def count_days(start, end):\n",
    "    duration = datetime.datetime.fromtimestamp(end) - datetime.datetime.fromtimestamp(start)\n",
    "    # count only full days\n",
    "    return duration.days\n",
    "\n",
    "df['duration'] = df.apply(lambda row: count_days(row.created_at, row.deadline), axis=1)"
   ]
  },
  {
   "cell_type": "code",
   "execution_count": 7,
   "metadata": {},
   "outputs": [
    {
     "name": "stdout",
     "output_type": "stream",
     "text": [
      "(188738, 18)\n",
      "(6876, 18)\n"
     ]
    }
   ],
   "source": [
    "# Separate finished and live projects\n",
    "df.drop(['blurb', 'created_at', 'deadline', 'state_changed_at'], axis=1, inplace=True)\n",
    "finished = df.loc[df.state != 'live']\n",
    "unfinished = df.loc[df.state == 'live']\n",
    "print(finished.shape)\n",
    "print(unfinished.shape)"
   ]
  },
  {
   "cell_type": "code",
   "execution_count": 8,
   "metadata": {},
   "outputs": [
    {
     "name": "stdout",
     "output_type": "stream",
     "text": [
      "1    105680\n",
      "0     83058\n",
      "Name: state, dtype: int64\n"
     ]
    }
   ],
   "source": [
    "# Edit state so that 0 means failed and 1 means successful\n",
    "finished['state'][finished.state != 'successful'] = 0\n",
    "finished['state'][finished.state == 'successful'] = 1\n",
    "print(finished.state.value_counts())"
   ]
  },
  {
   "cell_type": "code",
   "execution_count": 9,
   "metadata": {},
   "outputs": [],
   "source": [
    "# save data as csv-file\n",
    "finished.to_csv('finished.csv', index = False)\n",
    "unfinished.to_csv('unfinished.csv', index = False)"
   ]
  }
 ],
 "metadata": {
  "kernelspec": {
   "display_name": "Python 3",
   "language": "python",
   "name": "python3"
  },
  "language_info": {
   "codemirror_mode": {
    "name": "ipython",
    "version": 3
   },
   "file_extension": ".py",
   "mimetype": "text/x-python",
   "name": "python",
   "nbconvert_exporter": "python",
   "pygments_lexer": "ipython3",
   "version": "3.6.4"
  }
 },
 "nbformat": 4,
 "nbformat_minor": 2
}
