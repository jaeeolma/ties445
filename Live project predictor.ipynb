{
 "cells": [
  {
   "cell_type": "code",
   "execution_count": 1,
   "metadata": {},
   "outputs": [],
   "source": [
    "import pandas as pd\n",
    "from sklearn.ensemble import RandomForestClassifier\n",
    "from sklearn.metrics import confusion_matrix\n",
    "from sklearn.metrics import accuracy_score\n",
    "import numpy as np\n",
    "import matplotlib.pyplot as plt\n",
    "import seaborn as sns"
   ]
  },
  {
   "cell_type": "code",
   "execution_count": 68,
   "metadata": {},
   "outputs": [],
   "source": [
    "# Load previous model and datasets\n",
    "\n",
    "from sklearn.externals import joblib\n",
    "\n",
    "#rf = joblib.load('model.pkl')\n",
    "\n",
    "rf = RandomForestClassifier(bootstrap=True, class_weight=None, criterion='gini',\n",
    "            max_depth=None, max_features=None, max_leaf_nodes=None,\n",
    "            min_impurity_decrease=0.0, min_impurity_split=None,\n",
    "            min_samples_leaf=9, min_samples_split=8,\n",
    "            min_weight_fraction_leaf=0.0, n_estimators=100, n_jobs=-1,\n",
    "            oob_score=True, random_state=1, verbose=0, warm_start=False)\n",
    "\n",
    "train = pd.read_csv('finished_processed.csv')\n",
    "train.drop(['backers_count', 'usd_pledged', 'country', 'currency'], axis=1, inplace=True)\n",
    "train_target = train['state']\n",
    "train_features = train.drop(['state'], axis=1)\n"
   ]
  },
  {
   "cell_type": "code",
   "execution_count": 73,
   "metadata": {},
   "outputs": [
    {
     "name": "stdout",
     "output_type": "stream",
     "text": [
      "0.207974111712\n"
     ]
    }
   ],
   "source": [
    "# fit model with all training data\n",
    "rf.fit(train_target, train_features)"
   ]
  },
  {
   "cell_type": "code",
   "execution_count": 5,
   "metadata": {},
   "outputs": [],
   "source": [
    "# load test set and make it similar to our data\n",
    "\"\"\"\n",
    "test = pd.read_csv('unfinished_processed.csv')\n",
    "test_unprocessed = pd.read_csv('unfinished.csv')\n",
    "test['urls'] = test_unprocessed['urls']\n",
    "test.drop(['backers_count', 'usd_pledged', 'country', 'currency'], axis=1, inplace=True)\n",
    "\"\"\"\n",
    "test = pd.read_csv('unfinished_processed_for_testing')"
   ]
  },
  {
   "cell_type": "code",
   "execution_count": 51,
   "metadata": {},
   "outputs": [
    {
     "name": "stdout",
     "output_type": "stream",
     "text": [
      "Not going to run again\n"
     ]
    }
   ],
   "source": [
    "# scape kickstarter for current status\n",
    "\"\"\"\n",
    "import requests\n",
    "import ast\n",
    "\n",
    "def get_state(cell):\n",
    "    url = ast.literal_eval(cell)['project']\n",
    "    response = requests.get(url)\n",
    "    # status is found after data-project-state in form of 'data-project-state': \"successful\"\n",
    "    index = response.text.find('data-project-state')\n",
    "    state = response.text[index:index+30]\n",
    "    state_splitted = state.split('\"')\n",
    "    print(state_splitted)\n",
    "    try:\n",
    "        status = state_splitted[1]\n",
    "    except IndexError:\n",
    "        status = 'unknown'\n",
    "    return status\n",
    "\n",
    "test['state'] = test.apply(lambda row: get_state(row['urls']), axis = 1)\n",
    "\"\"\"\n",
    "print('Not going to run again')"
   ]
  },
  {
   "cell_type": "code",
   "execution_count": 18,
   "metadata": {},
   "outputs": [
    {
     "name": "stdout",
     "output_type": "stream",
     "text": [
      "failed        2105\n",
      "successful    1575\n",
      "canceled       253\n",
      "suspended        7\n",
      "unknown          5\n",
      "Name: state, dtype: int64\n"
     ]
    }
   ],
   "source": [
    "# check value counts\n",
    "print(test.state.value_counts())"
   ]
  },
  {
   "cell_type": "code",
   "execution_count": 19,
   "metadata": {},
   "outputs": [
    {
     "name": "stdout",
     "output_type": "stream",
     "text": [
      "failed        2105\n",
      "successful    1575\n",
      "suspended        7\n",
      "unknown          5\n",
      "Name: state, dtype: int64\n",
      "failed        2105\n",
      "successful    1575\n",
      "unknown          5\n",
      "Name: state, dtype: int64\n",
      "failed        2105\n",
      "successful    1575\n",
      "Name: state, dtype: int64\n"
     ]
    }
   ],
   "source": [
    "\"\"\"\n",
    "test = test[test.state != 'canceled']\n",
    "print(test.state.value_counts())\n",
    "test = test[test.state != 'suspended']\n",
    "print(test.state.value_counts())\n",
    "test = test[test.state != 'unknown']\n",
    "print(test.state.value_counts())\n",
    "\"\"\""
   ]
  },
  {
   "cell_type": "code",
   "execution_count": 20,
   "metadata": {},
   "outputs": [
    {
     "name": "stderr",
     "output_type": "stream",
     "text": [
      "C:\\Users\\Janne\\Anaconda3\\lib\\site-packages\\ipykernel_launcher.py:2: SettingWithCopyWarning: \n",
      "A value is trying to be set on a copy of a slice from a DataFrame\n",
      "\n",
      "See the caveats in the documentation: http://pandas.pydata.org/pandas-docs/stable/indexing.html#indexing-view-versus-copy\n",
      "  \n"
     ]
    }
   ],
   "source": [
    "\"\"\"\n",
    "test['state'][test.state != 'successful'] = 0\n",
    "test['state'][test.state == 'successful'] = 1\n",
    "\"\"\""
   ]
  },
  {
   "cell_type": "code",
   "execution_count": 23,
   "metadata": {},
   "outputs": [
    {
     "name": "stdout",
     "output_type": "stream",
     "text": [
      "0    2105\n",
      "1    1575\n",
      "Name: state, dtype: int64\n"
     ]
    }
   ],
   "source": [
    "#print(test.state.value_counts())\n",
    "#test.to_csv('unfinished_processed_for_testing.csv', index = False)"
   ]
  },
  {
   "cell_type": "code",
   "execution_count": 25,
   "metadata": {},
   "outputs": [],
   "source": [
    "test_target = test['state']\n",
    "test_features = test.drop(['state', 'urls'], axis=1)"
   ]
  },
  {
   "cell_type": "code",
   "execution_count": 59,
   "metadata": {},
   "outputs": [
    {
     "name": "stdout",
     "output_type": "stream",
     "text": [
      "(3680,)\n",
      "0    0.572011\n",
      "1    0.427989\n",
      "Name: state, dtype: float64\n",
      "(3680, 7)\n",
      "Index(['category', 'creator', 'goal', 'staff_pick', 'location', 'blurb_length',\n",
      "       'duration'],\n",
      "      dtype='object')\n"
     ]
    }
   ],
   "source": [
    "print(test_target.shape)\n",
    "print(test_target.value_counts(normalize=True))\n",
    "print(test_features.shape)\n",
    "print(test_features.keys())"
   ]
  },
  {
   "cell_type": "code",
   "execution_count": 66,
   "metadata": {},
   "outputs": [
    {
     "name": "stdout",
     "output_type": "stream",
     "text": [
      "0.630163043478\n",
      "0.204940419346\n",
      "[('category', 0.44133880092958), ('creator', 0.07856433249751954), ('goal', 0.20281609641844767), ('staff_pick', 0.10452257624001156), ('location', 0.078192420053213765), ('blurb_length', 0.042829067660861871), ('duration', 0.05173670620036569)]\n"
     ]
    }
   ],
   "source": [
    "predicted = rf.predict(test_features)\n",
    "test_target = test_target.astype(np.int64)\n",
    "print(accuracy_score(test_target, predicted))\n",
    "print(1 - rf.oob_score_)\n",
    "importances = [(test_features.keys()[i], rf.feature_importances_[i]) for i in range(len(test_features.keys()))]\n",
    "print(importances)"
   ]
  },
  {
   "cell_type": "code",
   "execution_count": 67,
   "metadata": {},
   "outputs": [
    {
     "data": {
      "text/plain": [
       "<matplotlib.axes._subplots.AxesSubplot at 0x1a19eddd550>"
      ]
     },
     "execution_count": 67,
     "metadata": {},
     "output_type": "execute_result"
    },
    {
     "data": {
      "image/png": "[encoded data removed]",
      "text/plain": [
       "<matplotlib.figure.Figure at 0x1a19ee034a8>"
      ]
     },
     "metadata": {},
     "output_type": "display_data"
    }
   ],
   "source": [
    "cfmtx = confusion_matrix(test_target, predicted)\n",
    "sns.heatmap(cfmtx, annot=True, fmt='g')"
   ]
  }
 ],
 "metadata": {
  "kernelspec": {
   "display_name": "Python 3",
   "language": "python",
   "name": "python3"
  },
  "language_info": {
   "codemirror_mode": {
    "name": "ipython",
    "version": 3
   },
   "file_extension": ".py",
   "mimetype": "text/x-python",
   "name": "python",
   "nbconvert_exporter": "python",
   "pygments_lexer": "ipython3",
   "version": "3.6.4"
  }
 },
 "nbformat": 4,
 "nbformat_minor": 2
}
