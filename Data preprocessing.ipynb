{
 "cells": [
  {
   "cell_type": "code",
   "execution_count": 1,
   "metadata": {
    "scrolled": false
   },
   "outputs": [
    {
     "name": "stdout",
     "output_type": "stream",
     "text": [
      "(195614, 37)\n",
      "Index(['backers_count', 'blurb', 'category', 'converted_pledged_amount',\n",
      "       'country', 'created_at', 'creator', 'currency', 'currency_symbol',\n",
      "       'currency_trailing_code', 'current_currency', 'deadline',\n",
      "       'disable_communication', 'fx_rate', 'goal', 'id', 'is_starrable',\n",
      "       'launched_at', 'name', 'photo', 'pledged', 'profile', 'slug',\n",
      "       'source_url', 'spotlight', 'staff_pick', 'state', 'state_changed_at',\n",
      "       'static_usd_rate', 'urls', 'usd_pledged', 'usd_type', 'location',\n",
      "       'friends', 'is_backing', 'is_starred', 'permissions'],\n",
      "      dtype='object')\n",
      "successful    105680\n",
      "failed         73634\n",
      "canceled        8823\n",
      "live            6876\n",
      "suspended        601\n",
      "Name: state, dtype: int64\n"
     ]
    }
   ],
   "source": [
    "import pandas as pd\n",
    "import glob\n",
    "\n",
    "allfiles = glob.glob('Kickstarter_data/*.csv')\n",
    "df = pd.concat((pd.read_csv(f) for f in allfiles), ignore_index=True)\n",
    "print(df.shape)\n",
    "print(df.keys())\n",
    "print(df.state.value_counts())"
   ]
  },
  {
   "cell_type": "code",
   "execution_count": 3,
   "metadata": {},
   "outputs": [
    {
     "name": "stdout",
     "output_type": "stream",
     "text": [
      "(188738, 11)\n",
      "(6876, 11)\n"
     ]
    }
   ],
   "source": [
    "needed_keys = ['backers_count', 'blurb', 'category', 'converted_pledged_amount', \n",
    "               'country', 'deadline', 'goal', 'spotlight', 'staff_pick', 'state', \n",
    "               'usd_pledged']\n",
    "# Filter unnecessary keys\n",
    "df2 = df[needed_keys]\n",
    "# Separate finished and live projects\n",
    "finished = df2.loc[df2.state != 'live']\n",
    "unfinished = df2.loc[df2.state == 'live']\n",
    "print(finished.shape)\n",
    "print(unfinished.shape)"
   ]
  },
  {
   "cell_type": "code",
   "execution_count": null,
   "metadata": {},
   "outputs": [],
   "source": []
  },
  {
   "cell_type": "code",
   "execution_count": null,
   "metadata": {},
   "outputs": [],
   "source": []
  }
 ],
 "metadata": {
  "kernelspec": {
   "display_name": "Python 3",
   "language": "python",
   "name": "python3"
  },
  "language_info": {
   "codemirror_mode": {
    "name": "ipython",
    "version": 3
   },
   "file_extension": ".py",
   "mimetype": "text/x-python",
   "name": "python",
   "nbconvert_exporter": "python",
   "pygments_lexer": "ipython3",
   "version": "3.6.4"
  }
 },
 "nbformat": 4,
 "nbformat_minor": 2
}
