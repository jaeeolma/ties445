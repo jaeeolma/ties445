{
 "cells": [
  {
   "cell_type": "markdown",
   "metadata": {},
   "source": [
    "# Exploring the Data\n"
   ]
  },
  {
   "cell_type": "code",
   "execution_count": null,
   "metadata": {},
   "outputs": [],
   "source": []
  },
  {
   "cell_type": "code",
   "execution_count": 80,
   "metadata": {},
   "outputs": [
    {
     "name": "stdout",
     "output_type": "stream",
     "text": [
      "<class 'pandas.core.frame.DataFrame'>\n",
      "RangeIndex: 173823 entries, 0 to 173822\n",
      "Data columns (total 15 columns):\n",
      "backers_count            173823 non-null int64\n",
      "category                 173823 non-null object\n",
      "country                  173823 non-null object\n",
      "creator                  173823 non-null int64\n",
      "currency                 173823 non-null object\n",
      "disable_communication    173823 non-null bool\n",
      "goal                     173823 non-null float64\n",
      "is_starrable             173823 non-null bool\n",
      "staff_pick               173823 non-null bool\n",
      "state                    173823 non-null int64\n",
      "urls                     173823 non-null object\n",
      "usd_pledged              173823 non-null float64\n",
      "location                 173823 non-null object\n",
      "blurb_length             173823 non-null int64\n",
      "duration                 173823 non-null int64\n",
      "dtypes: bool(3), float64(2), int64(5), object(5)\n",
      "memory usage: 16.4+ MB\n"
     ]
    },
    {
     "data": {
      "text/html": [
       "<div>\n",
       "<style scoped>\n",
       "    .dataframe tbody tr th:only-of-type {\n",
       "        vertical-align: middle;\n",
       "    }\n",
       "\n",
       "    .dataframe tbody tr th {\n",
       "        vertical-align: top;\n",
       "    }\n",
       "\n",
       "    .dataframe thead th {\n",
       "        text-align: right;\n",
       "    }\n",
       "</style>\n",
       "<table border=\"1\" class=\"dataframe\">\n",
       "  <thead>\n",
       "    <tr style=\"text-align: right;\">\n",
       "      <th></th>\n",
       "      <th>backers_count</th>\n",
       "      <th>category</th>\n",
       "      <th>country</th>\n",
       "      <th>creator</th>\n",
       "      <th>currency</th>\n",
       "      <th>disable_communication</th>\n",
       "      <th>goal</th>\n",
       "      <th>is_starrable</th>\n",
       "      <th>staff_pick</th>\n",
       "      <th>state</th>\n",
       "      <th>urls</th>\n",
       "      <th>usd_pledged</th>\n",
       "      <th>location</th>\n",
       "      <th>blurb_length</th>\n",
       "      <th>duration</th>\n",
       "    </tr>\n",
       "  </thead>\n",
       "  <tbody>\n",
       "    <tr>\n",
       "      <th>0</th>\n",
       "      <td>80</td>\n",
       "      <td>art/mixed media</td>\n",
       "      <td>US</td>\n",
       "      <td>483835381</td>\n",
       "      <td>USD</td>\n",
       "      <td>False</td>\n",
       "      <td>2800.0</td>\n",
       "      <td>False</td>\n",
       "      <td>False</td>\n",
       "      <td>1</td>\n",
       "      <td>{'project': 'https://www.kickstarter.com/proje...</td>\n",
       "      <td>3596.0</td>\n",
       "      <td>Paonia, CO</td>\n",
       "      <td>21</td>\n",
       "      <td>21</td>\n",
       "    </tr>\n",
       "    <tr>\n",
       "      <th>1</th>\n",
       "      <td>47</td>\n",
       "      <td>art</td>\n",
       "      <td>US</td>\n",
       "      <td>1536850207</td>\n",
       "      <td>USD</td>\n",
       "      <td>False</td>\n",
       "      <td>3900.0</td>\n",
       "      <td>False</td>\n",
       "      <td>False</td>\n",
       "      <td>1</td>\n",
       "      <td>{'project': 'https://www.kickstarter.com/proje...</td>\n",
       "      <td>4117.0</td>\n",
       "      <td>Bakersfield, CA</td>\n",
       "      <td>26</td>\n",
       "      <td>23</td>\n",
       "    </tr>\n",
       "    <tr>\n",
       "      <th>2</th>\n",
       "      <td>80</td>\n",
       "      <td>art/painting</td>\n",
       "      <td>US</td>\n",
       "      <td>2039713907</td>\n",
       "      <td>USD</td>\n",
       "      <td>False</td>\n",
       "      <td>750.0</td>\n",
       "      <td>False</td>\n",
       "      <td>False</td>\n",
       "      <td>1</td>\n",
       "      <td>{'project': 'https://www.kickstarter.com/proje...</td>\n",
       "      <td>3125.0</td>\n",
       "      <td>Lowell, MA</td>\n",
       "      <td>12</td>\n",
       "      <td>19</td>\n",
       "    </tr>\n",
       "    <tr>\n",
       "      <th>3</th>\n",
       "      <td>82</td>\n",
       "      <td>art/public art</td>\n",
       "      <td>US</td>\n",
       "      <td>17146650</td>\n",
       "      <td>USD</td>\n",
       "      <td>False</td>\n",
       "      <td>4500.0</td>\n",
       "      <td>False</td>\n",
       "      <td>False</td>\n",
       "      <td>1</td>\n",
       "      <td>{'project': 'https://www.kickstarter.com/proje...</td>\n",
       "      <td>4586.0</td>\n",
       "      <td>Washington, DC</td>\n",
       "      <td>20</td>\n",
       "      <td>40</td>\n",
       "    </tr>\n",
       "    <tr>\n",
       "      <th>4</th>\n",
       "      <td>31</td>\n",
       "      <td>art/painting</td>\n",
       "      <td>US</td>\n",
       "      <td>1442314751</td>\n",
       "      <td>USD</td>\n",
       "      <td>False</td>\n",
       "      <td>1000.0</td>\n",
       "      <td>False</td>\n",
       "      <td>False</td>\n",
       "      <td>1</td>\n",
       "      <td>{'project': 'https://www.kickstarter.com/proje...</td>\n",
       "      <td>1036.0</td>\n",
       "      <td>Portland, OR</td>\n",
       "      <td>10</td>\n",
       "      <td>5</td>\n",
       "    </tr>\n",
       "  </tbody>\n",
       "</table>\n",
       "</div>"
      ],
      "text/plain": [
       "   backers_count         category country     creator currency  \\\n",
       "0             80  art/mixed media      US   483835381      USD   \n",
       "1             47              art      US  1536850207      USD   \n",
       "2             80     art/painting      US  2039713907      USD   \n",
       "3             82   art/public art      US    17146650      USD   \n",
       "4             31     art/painting      US  1442314751      USD   \n",
       "\n",
       "   disable_communication    goal  is_starrable  staff_pick  state  \\\n",
       "0                  False  2800.0         False       False      1   \n",
       "1                  False  3900.0         False       False      1   \n",
       "2                  False   750.0         False       False      1   \n",
       "3                  False  4500.0         False       False      1   \n",
       "4                  False  1000.0         False       False      1   \n",
       "\n",
       "                                                urls  usd_pledged  \\\n",
       "0  {'project': 'https://www.kickstarter.com/proje...       3596.0   \n",
       "1  {'project': 'https://www.kickstarter.com/proje...       4117.0   \n",
       "2  {'project': 'https://www.kickstarter.com/proje...       3125.0   \n",
       "3  {'project': 'https://www.kickstarter.com/proje...       4586.0   \n",
       "4  {'project': 'https://www.kickstarter.com/proje...       1036.0   \n",
       "\n",
       "          location  blurb_length  duration  \n",
       "0       Paonia, CO            21        21  \n",
       "1  Bakersfield, CA            26        23  \n",
       "2       Lowell, MA            12        19  \n",
       "3   Washington, DC            20        40  \n",
       "4     Portland, OR            10         5  "
      ]
     },
     "execution_count": 80,
     "metadata": {},
     "output_type": "execute_result"
    }
   ],
   "source": [
    "import pandas as pd\n",
    "import numpy as np\n",
    "import seaborn as sns\n",
    "\n",
    "from IPython.core.interactiveshell import InteractiveShell\n",
    "InteractiveShell.ast_node_interactivity = \"all\"\n",
    "\n",
    "\n",
    "### Reading train and test data ###\n",
    "test_df= pd.read_csv('unfinished.csv', sep=',', header=0)\n",
    "train_df= pd.read_csv('finished.csv', sep=',', header=0)\n",
    "\n",
    "# data column types\n",
    "train_df.info()\n",
    "\n",
    "# what the data looks like\n",
    "train_df.head()"
   ]
  },
  {
   "cell_type": "code",
   "execution_count": 81,
   "metadata": {},
   "outputs": [],
   "source": [
    "### merging train and test data for exploration ###\n",
    "train_df[\"train\"] = True\n",
    "test_df[\"train\"] = False\n",
    "\n",
    "df = pd.concat([train_df, test_df], ignore_index=True)"
   ]
  },
  {
   "cell_type": "code",
   "execution_count": 82,
   "metadata": {},
   "outputs": [
    {
     "data": {
      "text/html": [
       "<div>\n",
       "<style scoped>\n",
       "    .dataframe tbody tr th:only-of-type {\n",
       "        vertical-align: middle;\n",
       "    }\n",
       "\n",
       "    .dataframe tbody tr th {\n",
       "        vertical-align: top;\n",
       "    }\n",
       "\n",
       "    .dataframe thead th {\n",
       "        text-align: right;\n",
       "    }\n",
       "</style>\n",
       "<table border=\"1\" class=\"dataframe\">\n",
       "  <thead>\n",
       "    <tr style=\"text-align: right;\">\n",
       "      <th></th>\n",
       "      <th>backers_count</th>\n",
       "      <th>creator</th>\n",
       "      <th>goal</th>\n",
       "      <th>usd_pledged</th>\n",
       "      <th>blurb_length</th>\n",
       "      <th>duration</th>\n",
       "    </tr>\n",
       "  </thead>\n",
       "  <tbody>\n",
       "    <tr>\n",
       "      <th>count</th>\n",
       "      <td>177768.000000</td>\n",
       "      <td>1.777680e+05</td>\n",
       "      <td>1.777680e+05</td>\n",
       "      <td>1.777680e+05</td>\n",
       "      <td>177768.000000</td>\n",
       "      <td>177768.000000</td>\n",
       "    </tr>\n",
       "    <tr>\n",
       "      <th>mean</th>\n",
       "      <td>129.263743</td>\n",
       "      <td>1.073674e+09</td>\n",
       "      <td>4.556443e+04</td>\n",
       "      <td>1.065866e+04</td>\n",
       "      <td>19.360430</td>\n",
       "      <td>33.611977</td>\n",
       "    </tr>\n",
       "    <tr>\n",
       "      <th>std</th>\n",
       "      <td>925.448230</td>\n",
       "      <td>6.198828e+08</td>\n",
       "      <td>1.208635e+06</td>\n",
       "      <td>8.128235e+04</td>\n",
       "      <td>4.845785</td>\n",
       "      <td>12.721739</td>\n",
       "    </tr>\n",
       "    <tr>\n",
       "      <th>min</th>\n",
       "      <td>0.000000</td>\n",
       "      <td>3.000000e+00</td>\n",
       "      <td>1.000000e-02</td>\n",
       "      <td>0.000000e+00</td>\n",
       "      <td>0.000000</td>\n",
       "      <td>1.000000</td>\n",
       "    </tr>\n",
       "    <tr>\n",
       "      <th>25%</th>\n",
       "      <td>3.000000</td>\n",
       "      <td>5.383356e+08</td>\n",
       "      <td>1.600000e+03</td>\n",
       "      <td>6.852201e+01</td>\n",
       "      <td>17.000000</td>\n",
       "      <td>30.000000</td>\n",
       "    </tr>\n",
       "    <tr>\n",
       "      <th>50%</th>\n",
       "      <td>22.000000</td>\n",
       "      <td>1.073209e+09</td>\n",
       "      <td>5.000000e+03</td>\n",
       "      <td>1.226000e+03</td>\n",
       "      <td>20.000000</td>\n",
       "      <td>30.000000</td>\n",
       "    </tr>\n",
       "    <tr>\n",
       "      <th>75%</th>\n",
       "      <td>77.000000</td>\n",
       "      <td>1.610515e+09</td>\n",
       "      <td>1.334045e+04</td>\n",
       "      <td>5.550000e+03</td>\n",
       "      <td>23.000000</td>\n",
       "      <td>36.000000</td>\n",
       "    </tr>\n",
       "    <tr>\n",
       "      <th>max</th>\n",
       "      <td>105857.000000</td>\n",
       "      <td>2.147465e+09</td>\n",
       "      <td>1.523501e+08</td>\n",
       "      <td>1.026685e+07</td>\n",
       "      <td>35.000000</td>\n",
       "      <td>92.000000</td>\n",
       "    </tr>\n",
       "  </tbody>\n",
       "</table>\n",
       "</div>"
      ],
      "text/plain": [
       "       backers_count       creator          goal   usd_pledged   blurb_length  \\\n",
       "count  177768.000000  1.777680e+05  1.777680e+05  1.777680e+05  177768.000000   \n",
       "mean      129.263743  1.073674e+09  4.556443e+04  1.065866e+04      19.360430   \n",
       "std       925.448230  6.198828e+08  1.208635e+06  8.128235e+04       4.845785   \n",
       "min         0.000000  3.000000e+00  1.000000e-02  0.000000e+00       0.000000   \n",
       "25%         3.000000  5.383356e+08  1.600000e+03  6.852201e+01      17.000000   \n",
       "50%        22.000000  1.073209e+09  5.000000e+03  1.226000e+03      20.000000   \n",
       "75%        77.000000  1.610515e+09  1.334045e+04  5.550000e+03      23.000000   \n",
       "max    105857.000000  2.147465e+09  1.523501e+08  1.026685e+07      35.000000   \n",
       "\n",
       "            duration  \n",
       "count  177768.000000  \n",
       "mean       33.611977  \n",
       "std        12.721739  \n",
       "min         1.000000  \n",
       "25%        30.000000  \n",
       "50%        30.000000  \n",
       "75%        36.000000  \n",
       "max        92.000000  "
      ]
     },
     "execution_count": 82,
     "metadata": {},
     "output_type": "execute_result"
    },
    {
     "data": {
      "text/html": [
       "<div>\n",
       "<style scoped>\n",
       "    .dataframe tbody tr th:only-of-type {\n",
       "        vertical-align: middle;\n",
       "    }\n",
       "\n",
       "    .dataframe tbody tr th {\n",
       "        vertical-align: top;\n",
       "    }\n",
       "\n",
       "    .dataframe thead th {\n",
       "        text-align: right;\n",
       "    }\n",
       "</style>\n",
       "<table border=\"1\" class=\"dataframe\">\n",
       "  <thead>\n",
       "    <tr style=\"text-align: right;\">\n",
       "      <th></th>\n",
       "      <th>category</th>\n",
       "      <th>country</th>\n",
       "      <th>currency</th>\n",
       "      <th>disable_communication</th>\n",
       "      <th>is_starrable</th>\n",
       "      <th>staff_pick</th>\n",
       "      <th>state</th>\n",
       "      <th>urls</th>\n",
       "      <th>location</th>\n",
       "      <th>train</th>\n",
       "    </tr>\n",
       "  </thead>\n",
       "  <tbody>\n",
       "    <tr>\n",
       "      <th>count</th>\n",
       "      <td>177768</td>\n",
       "      <td>177768</td>\n",
       "      <td>177768</td>\n",
       "      <td>177768</td>\n",
       "      <td>177768</td>\n",
       "      <td>177768</td>\n",
       "      <td>177768</td>\n",
       "      <td>177768</td>\n",
       "      <td>177768</td>\n",
       "      <td>177768</td>\n",
       "    </tr>\n",
       "    <tr>\n",
       "      <th>unique</th>\n",
       "      <td>168</td>\n",
       "      <td>22</td>\n",
       "      <td>14</td>\n",
       "      <td>2</td>\n",
       "      <td>2</td>\n",
       "      <td>2</td>\n",
       "      <td>3</td>\n",
       "      <td>177768</td>\n",
       "      <td>14399</td>\n",
       "      <td>2</td>\n",
       "    </tr>\n",
       "    <tr>\n",
       "      <th>top</th>\n",
       "      <td>music/pop</td>\n",
       "      <td>US</td>\n",
       "      <td>USD</td>\n",
       "      <td>False</td>\n",
       "      <td>False</td>\n",
       "      <td>False</td>\n",
       "      <td>1</td>\n",
       "      <td>{'project': 'https://www.kickstarter.com/proje...</td>\n",
       "      <td>Los Angeles, CA</td>\n",
       "      <td>True</td>\n",
       "    </tr>\n",
       "    <tr>\n",
       "      <th>freq</th>\n",
       "      <td>2400</td>\n",
       "      <td>139933</td>\n",
       "      <td>139933</td>\n",
       "      <td>177167</td>\n",
       "      <td>174065</td>\n",
       "      <td>155323</td>\n",
       "      <td>91355</td>\n",
       "      <td>1</td>\n",
       "      <td>9024</td>\n",
       "      <td>173823</td>\n",
       "    </tr>\n",
       "  </tbody>\n",
       "</table>\n",
       "</div>"
      ],
      "text/plain": [
       "         category country currency disable_communication is_starrable  \\\n",
       "count      177768  177768   177768                177768       177768   \n",
       "unique        168      22       14                     2            2   \n",
       "top     music/pop      US      USD                 False        False   \n",
       "freq         2400  139933   139933                177167       174065   \n",
       "\n",
       "       staff_pick   state                                               urls  \\\n",
       "count      177768  177768                                             177768   \n",
       "unique          2       3                                             177768   \n",
       "top         False       1  {'project': 'https://www.kickstarter.com/proje...   \n",
       "freq       155323   91355                                                  1   \n",
       "\n",
       "               location   train  \n",
       "count            177768  177768  \n",
       "unique            14399       2  \n",
       "top     Los Angeles, CA    True  \n",
       "freq               9024  173823  "
      ]
     },
     "execution_count": 82,
     "metadata": {},
     "output_type": "execute_result"
    }
   ],
   "source": [
    "### describing the numerical values of the data ###\n",
    "df.describe()\n",
    "### describing non-numerical values of the data ###\n",
    "df.describe(exclude=[np.number])"
   ]
  },
  {
   "cell_type": "markdown",
   "metadata": {},
   "source": [
    "### backers_count\n",
    "\n",
    "- TODO"
   ]
  },
  {
   "cell_type": "code",
   "execution_count": 83,
   "metadata": {
    "scrolled": true
   },
   "outputs": [
    {
     "data": {
      "text/plain": [
       "count    177768.000000\n",
       "mean        129.263743\n",
       "std         925.448230\n",
       "min           0.000000\n",
       "25%           3.000000\n",
       "50%          22.000000\n",
       "75%          77.000000\n",
       "max      105857.000000\n",
       "Name: backers_count, dtype: float64"
      ]
     },
     "execution_count": 83,
     "metadata": {},
     "output_type": "execute_result"
    },
    {
     "data": {
      "text/plain": [
       "<matplotlib.axes._subplots.AxesSubplot at 0x852b4e4f98>"
      ]
     },
     "execution_count": 83,
     "metadata": {},
     "output_type": "execute_result"
    },
    {
     "data": {
      "image/png": "[encoded data removed]",
      "text/plain": [
       "<matplotlib.figure.Figure at 0x852d4bcc50>"
      ]
     },
     "metadata": {},
     "output_type": "display_data"
    }
   ],
   "source": [
    "df.backers_count.describe()\n",
    "df.backers_count.plot(figsize=(15,5))"
   ]
  },
  {
   "cell_type": "markdown",
   "metadata": {},
   "source": [
    "### creator\n",
    "\n",
    "- TODO"
   ]
  },
  {
   "cell_type": "code",
   "execution_count": 84,
   "metadata": {
    "scrolled": true
   },
   "outputs": [
    {
     "data": {
      "text/plain": [
       "count    1.777680e+05\n",
       "mean     1.073674e+09\n",
       "std      6.198828e+08\n",
       "min      3.000000e+00\n",
       "25%      5.383356e+08\n",
       "50%      1.073209e+09\n",
       "75%      1.610515e+09\n",
       "max      2.147465e+09\n",
       "Name: creator, dtype: float64"
      ]
     },
     "execution_count": 84,
     "metadata": {},
     "output_type": "execute_result"
    }
   ],
   "source": [
    "df.creator.describe()"
   ]
  },
  {
   "cell_type": "markdown",
   "metadata": {},
   "source": [
    "### goal\n",
    "\n",
    "- TODO"
   ]
  },
  {
   "cell_type": "code",
   "execution_count": 85,
   "metadata": {
    "scrolled": true
   },
   "outputs": [
    {
     "data": {
      "text/plain": [
       "count    1.777680e+05\n",
       "mean     4.556443e+04\n",
       "std      1.208635e+06\n",
       "min      1.000000e-02\n",
       "25%      1.600000e+03\n",
       "50%      5.000000e+03\n",
       "75%      1.334045e+04\n",
       "max      1.523501e+08\n",
       "Name: goal, dtype: float64"
      ]
     },
     "execution_count": 85,
     "metadata": {},
     "output_type": "execute_result"
    },
    {
     "data": {
      "text/plain": [
       "<matplotlib.axes._subplots.AxesSubplot at 0x8537a5e2e8>"
      ]
     },
     "execution_count": 85,
     "metadata": {},
     "output_type": "execute_result"
    },
    {
     "data": {
      "image/png": "[encoded data removed]",
      "text/plain": [
       "<matplotlib.figure.Figure at 0x8537f98c50>"
      ]
     },
     "metadata": {},
     "output_type": "display_data"
    }
   ],
   "source": [
    "df.goal.describe()\n",
    "df.goal.plot(figsize=(15,5))"
   ]
  },
  {
   "cell_type": "markdown",
   "metadata": {},
   "source": [
    "### usd_pledged"
   ]
  },
  {
   "cell_type": "code",
   "execution_count": 86,
   "metadata": {
    "scrolled": true
   },
   "outputs": [
    {
     "data": {
      "text/plain": [
       "count    1.777680e+05\n",
       "mean     1.065866e+04\n",
       "std      8.128235e+04\n",
       "min      0.000000e+00\n",
       "25%      6.852201e+01\n",
       "50%      1.226000e+03\n",
       "75%      5.550000e+03\n",
       "max      1.026685e+07\n",
       "Name: usd_pledged, dtype: float64"
      ]
     },
     "execution_count": 86,
     "metadata": {},
     "output_type": "execute_result"
    },
    {
     "data": {
      "text/plain": [
       "<matplotlib.axes._subplots.AxesSubplot at 0x852f6dcdd8>"
      ]
     },
     "execution_count": 86,
     "metadata": {},
     "output_type": "execute_result"
    },
    {
     "data": {
      "image/png": "[encoded data removed]",
      "text/plain": [
       "<matplotlib.figure.Figure at 0x8537d7e080>"
      ]
     },
     "metadata": {},
     "output_type": "display_data"
    }
   ],
   "source": [
    "df.usd_pledged.describe()\n",
    "df.usd_pledged.plot(figsize=(15,5))"
   ]
  },
  {
   "cell_type": "markdown",
   "metadata": {},
   "source": [
    "### blurb_length"
   ]
  },
  {
   "cell_type": "code",
   "execution_count": 87,
   "metadata": {},
   "outputs": [
    {
     "data": {
      "text/plain": [
       "count    177768.000000\n",
       "mean         19.360430\n",
       "std           4.845785\n",
       "min           0.000000\n",
       "25%          17.000000\n",
       "50%          20.000000\n",
       "75%          23.000000\n",
       "max          35.000000\n",
       "Name: blurb_length, dtype: float64"
      ]
     },
     "execution_count": 87,
     "metadata": {},
     "output_type": "execute_result"
    },
    {
     "data": {
      "text/plain": [
       "<matplotlib.axes._subplots.AxesSubplot at 0x85386b6dd8>"
      ]
     },
     "execution_count": 87,
     "metadata": {},
     "output_type": "execute_result"
    },
    {
     "data": {
      "image/png": "[encoded data removed]",
      "text/plain": [
       "<matplotlib.figure.Figure at 0x8537dd7be0>"
      ]
     },
     "metadata": {},
     "output_type": "display_data"
    }
   ],
   "source": [
    "df.blurb_length.describe()\n",
    "df.blurb_length.plot(figsize=(15,5))"
   ]
  },
  {
   "cell_type": "markdown",
   "metadata": {},
   "source": [
    "### duration"
   ]
  },
  {
   "cell_type": "code",
   "execution_count": 88,
   "metadata": {},
   "outputs": [
    {
     "data": {
      "text/plain": [
       "count    177768.000000\n",
       "mean         33.611977\n",
       "std          12.721739\n",
       "min           1.000000\n",
       "25%          30.000000\n",
       "50%          30.000000\n",
       "75%          36.000000\n",
       "max          92.000000\n",
       "Name: duration, dtype: float64"
      ]
     },
     "execution_count": 88,
     "metadata": {},
     "output_type": "execute_result"
    },
    {
     "data": {
      "text/plain": [
       "<matplotlib.axes._subplots.AxesSubplot at 0x85388a5b70>"
      ]
     },
     "execution_count": 88,
     "metadata": {},
     "output_type": "execute_result"
    },
    {
     "data": {
      "image/png": "[encoded data removed]",
      "text/plain": [
       "<matplotlib.figure.Figure at 0x85388860b8>"
      ]
     },
     "metadata": {},
     "output_type": "display_data"
    }
   ],
   "source": [
    "df.duration.describe()\n",
    "df.duration.plot(figsize=(15,5))"
   ]
  },
  {
   "cell_type": "markdown",
   "metadata": {},
   "source": [
    "### category\n",
    "\n",
    "- TODO"
   ]
  },
  {
   "cell_type": "code",
   "execution_count": 89,
   "metadata": {},
   "outputs": [
    {
     "data": {
      "text/plain": [
       "count        177768\n",
       "unique          168\n",
       "top       music/pop\n",
       "freq           2400\n",
       "Name: category, dtype: object"
      ]
     },
     "execution_count": 89,
     "metadata": {},
     "output_type": "execute_result"
    },
    {
     "data": {
      "text/plain": [
       "music/pop                      2400\n",
       "fashion/apparel                2400\n",
       "film & video/narrative film    2400\n",
       "film & video/animation         2400\n",
       "music/hip-hop                  2400\n",
       "technology/hardware            2400\n",
       "music/rock                     2400\n",
       "games/playing cards            2400\n",
       "food/drinks                    2400\n",
       "publishing/art books           2400\n",
       "design/product design          2400\n",
       "publishing/nonfiction          2400\n",
       "film & video/shorts            2400\n",
       "technology/software            2400\n",
       "music/classical music          2400\n",
       "art/painting                   2400\n",
       "technology/web                 2400\n",
       "art/illustration               2400\n",
       "fashion/accessories            2400\n",
       "film & video/documentary       2400\n",
       "music/country & folk           2400\n",
       "games/video games              2400\n",
       "art/public art                 2400\n",
       "games/tabletop games           2400\n",
       "music/indie rock               2400\n",
       "film & video/webseries         2400\n",
       "publishing/children's books    2400\n",
       "publishing/fiction             2400\n",
       "comics/comic books             2400\n",
       "food/restaurants               2400\n",
       "                               ... \n",
       "crafts/stationery               239\n",
       "crafts/printing                 238\n",
       "games/puzzles                   229\n",
       "food/bacon                      219\n",
       "theater/spaces                  213\n",
       "dance/spaces                    205\n",
       "journalism/photo                198\n",
       "art/video art                   194\n",
       "film & video/romance            193\n",
       "crafts/knitting                 191\n",
       "dance/workshops                 168\n",
       "crafts/crochet                  168\n",
       "comics/events                   166\n",
       "publishing/translations         160\n",
       "music/latin                     149\n",
       "crafts/glass                    147\n",
       "fashion/pet fashion             144\n",
       "crafts/embroidery               118\n",
       "theater/comedy                  108\n",
       "design/typography               107\n",
       "crafts/pottery                  102\n",
       "crafts/weaving                   94\n",
       "crafts/quilts                    82\n",
       "publishing/comedy                82\n",
       "dance/residencies                70\n",
       "publishing/literary spaces       53\n",
       "publishing/letterpress           49\n",
       "music/chiptune                   36\n",
       "music/comedy                     22\n",
       "crafts/taxidermy                 13\n",
       "Name: category, Length: 168, dtype: int64"
      ]
     },
     "execution_count": 89,
     "metadata": {},
     "output_type": "execute_result"
    }
   ],
   "source": [
    "df.category.describe()\n",
    "df.category.value_counts()"
   ]
  },
  {
   "cell_type": "markdown",
   "metadata": {},
   "source": [
    "### country\n",
    "\n",
    "- TODO"
   ]
  },
  {
   "cell_type": "code",
   "execution_count": 90,
   "metadata": {
    "scrolled": false
   },
   "outputs": [
    {
     "data": {
      "text/plain": [
       "count     177768\n",
       "unique        22\n",
       "top           US\n",
       "freq      139933\n",
       "Name: country, dtype: object"
      ]
     },
     "execution_count": 90,
     "metadata": {},
     "output_type": "execute_result"
    },
    {
     "data": {
      "text/plain": [
       "US    139933\n",
       "GB     15406\n",
       "CA      6857\n",
       "AU      3581\n",
       "DE      1814\n",
       "NL      1382\n",
       "FR      1324\n",
       "IT      1268\n",
       "ES      1006\n",
       "MX       876\n",
       "SE       875\n",
       "NZ       661\n",
       "DK       575\n",
       "IE       400\n",
       "NO       360\n",
       "CH       328\n",
       "BE       311\n",
       "HK       269\n",
       "AT       248\n",
       "SG       221\n",
       "JP        46\n",
       "LU        27\n",
       "Name: country, dtype: int64"
      ]
     },
     "execution_count": 90,
     "metadata": {},
     "output_type": "execute_result"
    }
   ],
   "source": [
    "df.country.describe()\n",
    "\n",
    "df.country.value_counts()"
   ]
  },
  {
   "cell_type": "markdown",
   "metadata": {},
   "source": [
    "### currency\n",
    "\n",
    "- TODO"
   ]
  },
  {
   "cell_type": "code",
   "execution_count": 91,
   "metadata": {},
   "outputs": [
    {
     "data": {
      "text/plain": [
       "count     177768\n",
       "unique        14\n",
       "top          USD\n",
       "freq      139933\n",
       "Name: currency, dtype: object"
      ]
     },
     "execution_count": 91,
     "metadata": {},
     "output_type": "execute_result"
    },
    {
     "data": {
      "text/plain": [
       "USD    139933\n",
       "GBP     15406\n",
       "EUR      7780\n",
       "CAD      6857\n",
       "AUD      3581\n",
       "MXN       876\n",
       "SEK       875\n",
       "NZD       661\n",
       "DKK       575\n",
       "NOK       360\n",
       "CHF       328\n",
       "HKD       269\n",
       "SGD       221\n",
       "JPY        46\n",
       "Name: currency, dtype: int64"
      ]
     },
     "execution_count": 91,
     "metadata": {},
     "output_type": "execute_result"
    }
   ],
   "source": [
    "df.currency.describe()\n",
    "\n",
    "df.currency.value_counts()"
   ]
  },
  {
   "cell_type": "markdown",
   "metadata": {},
   "source": [
    "### disable_communication\n",
    "\n",
    "- TODO"
   ]
  },
  {
   "cell_type": "code",
   "execution_count": 92,
   "metadata": {},
   "outputs": [
    {
     "data": {
      "text/plain": [
       "count     177768\n",
       "unique         2\n",
       "top        False\n",
       "freq      177167\n",
       "Name: disable_communication, dtype: object"
      ]
     },
     "execution_count": 92,
     "metadata": {},
     "output_type": "execute_result"
    }
   ],
   "source": [
    "df.disable_communication.describe()"
   ]
  },
  {
   "cell_type": "markdown",
   "metadata": {},
   "source": [
    "### is_starrable\n",
    "\n",
    "- TODO"
   ]
  },
  {
   "cell_type": "code",
   "execution_count": 93,
   "metadata": {},
   "outputs": [
    {
     "data": {
      "text/plain": [
       "count     177768\n",
       "unique         2\n",
       "top        False\n",
       "freq      174065\n",
       "Name: is_starrable, dtype: object"
      ]
     },
     "execution_count": 93,
     "metadata": {},
     "output_type": "execute_result"
    }
   ],
   "source": [
    "df.is_starrable.describe()"
   ]
  },
  {
   "cell_type": "markdown",
   "metadata": {},
   "source": [
    "### staff_pick\n",
    "\n",
    "- TODO"
   ]
  },
  {
   "cell_type": "code",
   "execution_count": 94,
   "metadata": {},
   "outputs": [
    {
     "data": {
      "text/plain": [
       "count     177768\n",
       "unique         2\n",
       "top        False\n",
       "freq      155323\n",
       "Name: staff_pick, dtype: object"
      ]
     },
     "execution_count": 94,
     "metadata": {},
     "output_type": "execute_result"
    }
   ],
   "source": [
    "df.staff_pick.describe()"
   ]
  },
  {
   "cell_type": "markdown",
   "metadata": {},
   "source": [
    "### state\n",
    "\n",
    "- TODO"
   ]
  },
  {
   "cell_type": "code",
   "execution_count": 95,
   "metadata": {},
   "outputs": [
    {
     "data": {
      "text/plain": [
       "count     177768\n",
       "unique         3\n",
       "top            1\n",
       "freq       91355\n",
       "Name: state, dtype: int64"
      ]
     },
     "execution_count": 95,
     "metadata": {},
     "output_type": "execute_result"
    },
    {
     "data": {
      "text/plain": [
       "1       91355\n",
       "0       82468\n",
       "live     3945\n",
       "Name: state, dtype: int64"
      ]
     },
     "execution_count": 95,
     "metadata": {},
     "output_type": "execute_result"
    }
   ],
   "source": [
    "df.state.describe()\n",
    "\n",
    "df.state.value_counts()"
   ]
  },
  {
   "cell_type": "markdown",
   "metadata": {},
   "source": [
    "### urls\n",
    "\n",
    "- TODO"
   ]
  },
  {
   "cell_type": "markdown",
   "metadata": {},
   "source": [
    "### location"
   ]
  },
  {
   "cell_type": "code",
   "execution_count": 96,
   "metadata": {},
   "outputs": [
    {
     "data": {
      "text/plain": [
       "count              177768\n",
       "unique              14399\n",
       "top       Los Angeles, CA\n",
       "freq                 9024\n",
       "Name: location, dtype: object"
      ]
     },
     "execution_count": 96,
     "metadata": {},
     "output_type": "execute_result"
    }
   ],
   "source": [
    "df.location.describe()"
   ]
  },
  {
   "cell_type": "code",
   "execution_count": null,
   "metadata": {},
   "outputs": [],
   "source": []
  }
 ],
 "metadata": {
  "kernelspec": {
   "display_name": "Python [default]",
   "language": "python",
   "name": "python3"
  },
  "language_info": {
   "codemirror_mode": {
    "name": "ipython",
    "version": 3
   },
   "file_extension": ".py",
   "mimetype": "text/x-python",
   "name": "python",
   "nbconvert_exporter": "python",
   "pygments_lexer": "ipython3",
   "version": "3.6.5"
  }
 },
 "nbformat": 4,
 "nbformat_minor": 2
}
