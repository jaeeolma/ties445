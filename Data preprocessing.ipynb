{
 "cells": [
  {
   "cell_type": "code",
   "execution_count": 1,
   "metadata": {
    "scrolled": false
   },
   "outputs": [],
   "source": [
    "import pandas as pd\n",
    "import glob\n",
    "\n",
    "pd.options.mode.chained_assignment = None\n",
    "# read files\n",
    "allfiles = glob.glob('Kickstarter_data/*.csv')\n",
    "df = pd.concat((pd.read_csv(f) for f in allfiles), ignore_index=True)"
   ]
  },
  {
   "cell_type": "markdown",
   "metadata": {},
   "source": [
    "Data is in multiple files, so simply read all and concatenate to single dataframe."
   ]
  },
  {
   "cell_type": "code",
   "execution_count": 2,
   "metadata": {},
   "outputs": [
    {
     "name": "stdout",
     "output_type": "stream",
     "text": [
      "(195614, 37)\n",
      "Index(['backers_count', 'blurb', 'category', 'converted_pledged_amount',\n",
      "       'country', 'created_at', 'creator', 'currency', 'currency_symbol',\n",
      "       'currency_trailing_code', 'current_currency', 'deadline',\n",
      "       'disable_communication', 'fx_rate', 'goal', 'id', 'is_starrable',\n",
      "       'launched_at', 'name', 'photo', 'pledged', 'profile', 'slug',\n",
      "       'source_url', 'spotlight', 'staff_pick', 'state', 'state_changed_at',\n",
      "       'static_usd_rate', 'urls', 'usd_pledged', 'usd_type', 'location',\n",
      "       'friends', 'is_backing', 'is_starred', 'permissions'],\n",
      "      dtype='object')\n",
      "successful    105680\n",
      "failed         73634\n",
      "canceled        8823\n",
      "live            6876\n",
      "suspended        601\n",
      "Name: state, dtype: int64\n"
     ]
    },
    {
     "data": {
      "text/html": [
       "<div>\n",
       "<style scoped>\n",
       "    .dataframe tbody tr th:only-of-type {\n",
       "        vertical-align: middle;\n",
       "    }\n",
       "\n",
       "    .dataframe tbody tr th {\n",
       "        vertical-align: top;\n",
       "    }\n",
       "\n",
       "    .dataframe thead th {\n",
       "        text-align: right;\n",
       "    }\n",
       "</style>\n",
       "<table border=\"1\" class=\"dataframe\">\n",
       "  <thead>\n",
       "    <tr style=\"text-align: right;\">\n",
       "      <th></th>\n",
       "      <th>backers_count</th>\n",
       "      <th>blurb</th>\n",
       "      <th>category</th>\n",
       "      <th>converted_pledged_amount</th>\n",
       "      <th>country</th>\n",
       "      <th>created_at</th>\n",
       "      <th>creator</th>\n",
       "      <th>currency</th>\n",
       "      <th>currency_symbol</th>\n",
       "      <th>currency_trailing_code</th>\n",
       "      <th>...</th>\n",
       "      <th>state_changed_at</th>\n",
       "      <th>static_usd_rate</th>\n",
       "      <th>urls</th>\n",
       "      <th>usd_pledged</th>\n",
       "      <th>usd_type</th>\n",
       "      <th>location</th>\n",
       "      <th>friends</th>\n",
       "      <th>is_backing</th>\n",
       "      <th>is_starred</th>\n",
       "      <th>permissions</th>\n",
       "    </tr>\n",
       "  </thead>\n",
       "  <tbody>\n",
       "    <tr>\n",
       "      <th>0</th>\n",
       "      <td>80</td>\n",
       "      <td>I will be an artist-in-residence at Elsewhere ...</td>\n",
       "      <td>{\"urls\":{\"web\":{\"discover\":\"http://www.kicksta...</td>\n",
       "      <td>3596</td>\n",
       "      <td>US</td>\n",
       "      <td>1325980505</td>\n",
       "      <td>{\"urls\":{\"web\":{\"user\":\"https://www.kickstarte...</td>\n",
       "      <td>USD</td>\n",
       "      <td>$</td>\n",
       "      <td>True</td>\n",
       "      <td>...</td>\n",
       "      <td>1334866560</td>\n",
       "      <td>1.0</td>\n",
       "      <td>{\"web\":{\"project\":\"https://www.kickstarter.com...</td>\n",
       "      <td>3596.0</td>\n",
       "      <td>domestic</td>\n",
       "      <td>{\"country\":\"US\",\"urls\":{\"web\":{\"discover\":\"htt...</td>\n",
       "      <td>NaN</td>\n",
       "      <td>NaN</td>\n",
       "      <td>NaN</td>\n",
       "      <td>NaN</td>\n",
       "    </tr>\n",
       "    <tr>\n",
       "      <th>1</th>\n",
       "      <td>47</td>\n",
       "      <td>We are looking to bring a Visiting Sculptor fr...</td>\n",
       "      <td>{\"urls\":{\"web\":{\"discover\":\"http://www.kicksta...</td>\n",
       "      <td>4117</td>\n",
       "      <td>US</td>\n",
       "      <td>1330727362</td>\n",
       "      <td>{\"urls\":{\"web\":{\"user\":\"https://www.kickstarte...</td>\n",
       "      <td>USD</td>\n",
       "      <td>$</td>\n",
       "      <td>True</td>\n",
       "      <td>...</td>\n",
       "      <td>1334959598</td>\n",
       "      <td>1.0</td>\n",
       "      <td>{\"web\":{\"project\":\"https://www.kickstarter.com...</td>\n",
       "      <td>4117.0</td>\n",
       "      <td>domestic</td>\n",
       "      <td>{\"country\":\"US\",\"urls\":{\"web\":{\"discover\":\"htt...</td>\n",
       "      <td>NaN</td>\n",
       "      <td>NaN</td>\n",
       "      <td>NaN</td>\n",
       "      <td>NaN</td>\n",
       "    </tr>\n",
       "    <tr>\n",
       "      <th>2</th>\n",
       "      <td>80</td>\n",
       "      <td>Surrealistic oil paintings capturing the metam...</td>\n",
       "      <td>{\"urls\":{\"web\":{\"discover\":\"http://www.kicksta...</td>\n",
       "      <td>3125</td>\n",
       "      <td>US</td>\n",
       "      <td>1332598567</td>\n",
       "      <td>{\"urls\":{\"web\":{\"user\":\"https://www.kickstarte...</td>\n",
       "      <td>USD</td>\n",
       "      <td>$</td>\n",
       "      <td>True</td>\n",
       "      <td>...</td>\n",
       "      <td>1334635143</td>\n",
       "      <td>1.0</td>\n",
       "      <td>{\"web\":{\"project\":\"https://www.kickstarter.com...</td>\n",
       "      <td>3125.0</td>\n",
       "      <td>domestic</td>\n",
       "      <td>{\"country\":\"US\",\"urls\":{\"web\":{\"discover\":\"htt...</td>\n",
       "      <td>NaN</td>\n",
       "      <td>NaN</td>\n",
       "      <td>NaN</td>\n",
       "      <td>NaN</td>\n",
       "    </tr>\n",
       "    <tr>\n",
       "      <th>3</th>\n",
       "      <td>82</td>\n",
       "      <td>1000 Artists is a public art-making installati...</td>\n",
       "      <td>{\"urls\":{\"web\":{\"discover\":\"http://www.kicksta...</td>\n",
       "      <td>4586</td>\n",
       "      <td>US</td>\n",
       "      <td>1330926084</td>\n",
       "      <td>{\"urls\":{\"web\":{\"user\":\"https://www.kickstarte...</td>\n",
       "      <td>USD</td>\n",
       "      <td>$</td>\n",
       "      <td>True</td>\n",
       "      <td>...</td>\n",
       "      <td>1336440145</td>\n",
       "      <td>1.0</td>\n",
       "      <td>{\"web\":{\"project\":\"https://www.kickstarter.com...</td>\n",
       "      <td>4586.0</td>\n",
       "      <td>domestic</td>\n",
       "      <td>{\"country\":\"US\",\"urls\":{\"web\":{\"discover\":\"htt...</td>\n",
       "      <td>NaN</td>\n",
       "      <td>NaN</td>\n",
       "      <td>NaN</td>\n",
       "      <td>NaN</td>\n",
       "    </tr>\n",
       "    <tr>\n",
       "      <th>4</th>\n",
       "      <td>31</td>\n",
       "      <td>P.M.A.F.T.W. my upcoming solo show June 2012 a...</td>\n",
       "      <td>{\"urls\":{\"web\":{\"discover\":\"http://www.kicksta...</td>\n",
       "      <td>1036</td>\n",
       "      <td>US</td>\n",
       "      <td>1332476607</td>\n",
       "      <td>{\"urls\":{\"web\":{\"user\":\"https://www.kickstarte...</td>\n",
       "      <td>USD</td>\n",
       "      <td>$</td>\n",
       "      <td>True</td>\n",
       "      <td>...</td>\n",
       "      <td>1333421843</td>\n",
       "      <td>1.0</td>\n",
       "      <td>{\"web\":{\"project\":\"https://www.kickstarter.com...</td>\n",
       "      <td>1036.0</td>\n",
       "      <td>domestic</td>\n",
       "      <td>{\"country\":\"US\",\"urls\":{\"web\":{\"discover\":\"htt...</td>\n",
       "      <td>NaN</td>\n",
       "      <td>NaN</td>\n",
       "      <td>NaN</td>\n",
       "      <td>NaN</td>\n",
       "    </tr>\n",
       "  </tbody>\n",
       "</table>\n",
       "<p>5 rows × 37 columns</p>\n",
       "</div>"
      ],
      "text/plain": [
       "   backers_count                                              blurb  \\\n",
       "0             80  I will be an artist-in-residence at Elsewhere ...   \n",
       "1             47  We are looking to bring a Visiting Sculptor fr...   \n",
       "2             80  Surrealistic oil paintings capturing the metam...   \n",
       "3             82  1000 Artists is a public art-making installati...   \n",
       "4             31  P.M.A.F.T.W. my upcoming solo show June 2012 a...   \n",
       "\n",
       "                                            category  \\\n",
       "0  {\"urls\":{\"web\":{\"discover\":\"http://www.kicksta...   \n",
       "1  {\"urls\":{\"web\":{\"discover\":\"http://www.kicksta...   \n",
       "2  {\"urls\":{\"web\":{\"discover\":\"http://www.kicksta...   \n",
       "3  {\"urls\":{\"web\":{\"discover\":\"http://www.kicksta...   \n",
       "4  {\"urls\":{\"web\":{\"discover\":\"http://www.kicksta...   \n",
       "\n",
       "   converted_pledged_amount country  created_at  \\\n",
       "0                      3596      US  1325980505   \n",
       "1                      4117      US  1330727362   \n",
       "2                      3125      US  1332598567   \n",
       "3                      4586      US  1330926084   \n",
       "4                      1036      US  1332476607   \n",
       "\n",
       "                                             creator currency currency_symbol  \\\n",
       "0  {\"urls\":{\"web\":{\"user\":\"https://www.kickstarte...      USD               $   \n",
       "1  {\"urls\":{\"web\":{\"user\":\"https://www.kickstarte...      USD               $   \n",
       "2  {\"urls\":{\"web\":{\"user\":\"https://www.kickstarte...      USD               $   \n",
       "3  {\"urls\":{\"web\":{\"user\":\"https://www.kickstarte...      USD               $   \n",
       "4  {\"urls\":{\"web\":{\"user\":\"https://www.kickstarte...      USD               $   \n",
       "\n",
       "   currency_trailing_code     ...     state_changed_at  static_usd_rate  \\\n",
       "0                    True     ...           1334866560              1.0   \n",
       "1                    True     ...           1334959598              1.0   \n",
       "2                    True     ...           1334635143              1.0   \n",
       "3                    True     ...           1336440145              1.0   \n",
       "4                    True     ...           1333421843              1.0   \n",
       "\n",
       "                                                urls  usd_pledged  usd_type  \\\n",
       "0  {\"web\":{\"project\":\"https://www.kickstarter.com...       3596.0  domestic   \n",
       "1  {\"web\":{\"project\":\"https://www.kickstarter.com...       4117.0  domestic   \n",
       "2  {\"web\":{\"project\":\"https://www.kickstarter.com...       3125.0  domestic   \n",
       "3  {\"web\":{\"project\":\"https://www.kickstarter.com...       4586.0  domestic   \n",
       "4  {\"web\":{\"project\":\"https://www.kickstarter.com...       1036.0  domestic   \n",
       "\n",
       "                                            location  friends  is_backing  \\\n",
       "0  {\"country\":\"US\",\"urls\":{\"web\":{\"discover\":\"htt...      NaN         NaN   \n",
       "1  {\"country\":\"US\",\"urls\":{\"web\":{\"discover\":\"htt...      NaN         NaN   \n",
       "2  {\"country\":\"US\",\"urls\":{\"web\":{\"discover\":\"htt...      NaN         NaN   \n",
       "3  {\"country\":\"US\",\"urls\":{\"web\":{\"discover\":\"htt...      NaN         NaN   \n",
       "4  {\"country\":\"US\",\"urls\":{\"web\":{\"discover\":\"htt...      NaN         NaN   \n",
       "\n",
       "  is_starred permissions  \n",
       "0        NaN         NaN  \n",
       "1        NaN         NaN  \n",
       "2        NaN         NaN  \n",
       "3        NaN         NaN  \n",
       "4        NaN         NaN  \n",
       "\n",
       "[5 rows x 37 columns]"
      ]
     },
     "execution_count": 2,
     "metadata": {},
     "output_type": "execute_result"
    }
   ],
   "source": [
    "# Examine shape\n",
    "print(df.shape)\n",
    "\n",
    "# Examine keys\n",
    "print(df.keys())\n",
    "\n",
    "# Examine state counts\n",
    "print(df.state.value_counts())\n",
    "\n",
    "# Examine head to get an idea of data\n",
    "df.head()"
   ]
  },
  {
   "cell_type": "code",
   "execution_count": 3,
   "metadata": {},
   "outputs": [
    {
     "name": "stdout",
     "output_type": "stream",
     "text": [
      "177768 195614\n"
     ]
    }
   ],
   "source": [
    "# Check for duplicate projects\n",
    "\n",
    "print(len(set(df.id)), len(df.id))"
   ]
  },
  {
   "cell_type": "markdown",
   "metadata": {},
   "source": [
    "There seems to be duplicate projects. Solution for this is drop all but first occurence"
   ]
  },
  {
   "cell_type": "code",
   "execution_count": 4,
   "metadata": {},
   "outputs": [
    {
     "name": "stdout",
     "output_type": "stream",
     "text": [
      "(177768, 37)\n"
     ]
    }
   ],
   "source": [
    "df.drop_duplicates(subset=['id'], inplace=True)\n",
    "print(df.shape)"
   ]
  },
  {
   "cell_type": "markdown",
   "metadata": {},
   "source": [
    "Next task is to preprocess values and drop irrelevant features.\n",
    "\n",
    "First convert all goals to be USD."
   ]
  },
  {
   "cell_type": "code",
   "execution_count": 5,
   "metadata": {},
   "outputs": [],
   "source": [
    "df['goal'] = df.apply(lambda row: row['goal'] * row['static_usd_rate'], axis=1)"
   ]
  },
  {
   "cell_type": "markdown",
   "metadata": {},
   "source": [
    "Filter out unnecessary keys that contain either irrelevant or duplicate information\n",
    "* Friends, is_backing, is_starred and permissions are irrelevant, because they do not hold any information about project\n",
    "* Currency symbol, trailing code, current currency, static_usd_rate and usd_type can also be dropped. Currency is enough.\n",
    "* Pledged and converted_pledged_amount can be dropped, because we are interested in USD_pledged\n",
    "* Spotlight is only for successful projects. We found out this after our decision tree had only 1 node: Spotlight: true or false\n",
    "* Slug, photo, profile have only urls, so drop them\n",
    "* id is numeric id for projects. Not relevant\n",
    "* Created_at and state_changed_at are dropped, because we are interested in launched_at and deadline\n",
    "* URLS are not dropped, because they can be used to check state from live projects\n"
   ]
  },
  {
   "cell_type": "code",
   "execution_count": 6,
   "metadata": {},
   "outputs": [
    {
     "name": "stdout",
     "output_type": "stream",
     "text": [
      "Index(['backers_count', 'blurb', 'category', 'country', 'creator', 'currency',\n",
      "       'deadline', 'disable_communication', 'goal', 'is_starrable',\n",
      "       'launched_at', 'staff_pick', 'state', 'urls', 'usd_pledged',\n",
      "       'location'],\n",
      "      dtype='object')\n"
     ]
    }
   ],
   "source": [
    "# Filter out unnecessary keys that contain either irrelevant or duplicate information\n",
    "# Such as url for photo, pledged amount in non-USD -currency, etc.\n",
    "# URLS are not dropped, because they can be used to check state from live projects\n",
    "# Also spotlight should be dropped because it is only available for finished projects\n",
    "unnecessary_keys = ['currency_symbol', 'currency_trailing_code', 'current_currency', 'id', 'name', 'fx_rate',\n",
    "                    'photo', 'pledged', 'profile', 'slug', 'source_url', 'static_usd_rate', 'state_changed_at', 'created_at',\n",
    "                    'usd_type', 'friends', 'is_backing', 'is_starred', 'permissions', 'converted_pledged_amount', 'spotlight']\n",
    "\n",
    "df.drop(unnecessary_keys, axis=1, inplace = True)\n",
    "print(df.keys())"
   ]
  },
  {
   "cell_type": "markdown",
   "metadata": {},
   "source": [
    "Some of the features are stored as JSON string. Filter them so they are easier to read.\n",
    "\n",
    "* Convert category to example Art/Taxidermy. Another solution would be to split it to two: top category: Art and category: Taxidermy\n",
    "* Convert creator to numeric ID\n",
    "* Convert location to be type Anaheim, CA\n",
    "* Filter only relevant urls (project and rewards)"
   ]
  },
  {
   "cell_type": "code",
   "execution_count": 7,
   "metadata": {},
   "outputs": [],
   "source": [
    "import json\n",
    "\n",
    "def filter_json(val, key):\n",
    "    cat = json.loads(val)\n",
    "    return cat[key]\n",
    "\n",
    "# Category, name, location\n",
    "df['category'] = df.apply(lambda row: filter_json(row['category'], 'slug'), axis = 1)\n",
    "df['creator'] = df.apply(lambda row: filter_json(row['creator'], 'id'), axis = 1)\n",
    "df['location'] = df.apply(lambda row: filter_json(row['location'], 'displayable_name') if type(row['location']) != float else 'unknown', axis = 1)\n",
    "df['urls'] = df.apply(lambda row: filter_json(row['urls'], 'web'), axis = 1)"
   ]
  },
  {
   "cell_type": "markdown",
   "metadata": {},
   "source": [
    "Blurb is short description of the project. While it would be interesting to analyze it, we are now only interested in length."
   ]
  },
  {
   "cell_type": "code",
   "execution_count": 8,
   "metadata": {},
   "outputs": [],
   "source": [
    "df['blurb_length'] = df.apply(lambda row: len(row['blurb'].split()) if type(row['blurb']) != float else 0, axis=1)"
   ]
  },
  {
   "cell_type": "markdown",
   "metadata": {},
   "source": [
    "Count the duration of project to be the number of days between launched_at and deadline, round up."
   ]
  },
  {
   "cell_type": "code",
   "execution_count": 9,
   "metadata": {},
   "outputs": [],
   "source": [
    "import datetime\n",
    "\n",
    "def count_days(start, end):\n",
    "    duration = datetime.datetime.fromtimestamp(end) - datetime.datetime.fromtimestamp(start)\n",
    "    return duration.days\n",
    "\n",
    "df['duration'] = df.apply(lambda row: count_days(row.launched_at, row.deadline), axis=1)"
   ]
  },
  {
   "cell_type": "markdown",
   "metadata": {},
   "source": [
    "Drop replaced keys and separate finished and unfinished projects"
   ]
  },
  {
   "cell_type": "code",
   "execution_count": 10,
   "metadata": {},
   "outputs": [
    {
     "name": "stdout",
     "output_type": "stream",
     "text": [
      "(173823, 15)\n",
      "(3945, 15)\n"
     ]
    }
   ],
   "source": [
    "df.drop(['blurb', 'launched_at', 'deadline'], axis=1, inplace=True)\n",
    "finished = df.loc[df.state != 'live']\n",
    "unfinished = df.loc[df.state == 'live']\n",
    "print(finished.shape)\n",
    "print(unfinished.shape)"
   ]
  },
  {
   "cell_type": "markdown",
   "metadata": {},
   "source": [
    "Because projects can be canceled or suspended for varioous reasons, drop them from our data.\n",
    "Also convert successful projects to 1 and failed to 0"
   ]
  },
  {
   "cell_type": "code",
   "execution_count": 11,
   "metadata": {},
   "outputs": [
    {
     "name": "stdout",
     "output_type": "stream",
     "text": [
      "successful    91355\n",
      "failed        73044\n",
      "suspended       601\n",
      "Name: state, dtype: int64\n",
      "successful    91355\n",
      "failed        73044\n",
      "Name: state, dtype: int64\n",
      "1    91355\n",
      "0    73044\n",
      "Name: state, dtype: int64\n"
     ]
    }
   ],
   "source": [
    "finished = finished[finished.state != 'canceled']\n",
    "print(finished.state.value_counts())\n",
    "finished = finished[finished.state != 'suspended']\n",
    "print(finished.state.value_counts())\n",
    "finished['state'][finished.state != 'successful'] = 0\n",
    "finished['state'][finished.state == 'successful'] = 1\n",
    "print(finished.state.value_counts())"
   ]
  },
  {
   "cell_type": "code",
   "execution_count": 12,
   "metadata": {},
   "outputs": [],
   "source": [
    "# save data as csv-file\n",
    "finished.to_csv('finished.csv', index = False)\n",
    "unfinished.to_csv('unfinished.csv', index = False)"
   ]
  }
 ],
 "metadata": {
  "kernelspec": {
   "display_name": "Python 3",
   "language": "python",
   "name": "python3"
  },
  "language_info": {
   "codemirror_mode": {
    "name": "ipython",
    "version": 3
   },
   "file_extension": ".py",
   "mimetype": "text/x-python",
   "name": "python",
   "nbconvert_exporter": "python",
   "pygments_lexer": "ipython3",
   "version": "3.6.4"
  }
 },
 "nbformat": 4,
 "nbformat_minor": 2
}
