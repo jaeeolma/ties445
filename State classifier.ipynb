{
 "cells": [
  {
   "cell_type": "code",
   "execution_count": 1,
   "metadata": {},
   "outputs": [],
   "source": [
    "import pandas as pd\n",
    "from sklearn.ensemble import RandomForestClassifier\n",
    "from sklearn.model_selection import train_test_split\n",
    "from sklearn.metrics import confusion_matrix\n",
    "from sklearn.metrics import accuracy_score\n",
    "from sklearn.preprocessing import LabelEncoder\n",
    "import numpy as np\n",
    "import matplotlib.pyplot as plt\n",
    "import seaborn as sns"
   ]
  },
  {
   "cell_type": "code",
   "execution_count": 2,
   "metadata": {},
   "outputs": [
    {
     "name": "stdout",
     "output_type": "stream",
     "text": [
      "Index(['backers_count', 'category', 'country', 'creator', 'currency', 'goal',\n",
      "       'staff_pick', 'state', 'usd_pledged', 'location', 'blurb_length',\n",
      "       'duration'],\n",
      "      dtype='object')\n",
      "(173823, 12)\n"
     ]
    },
    {
     "data": {
      "text/plain": [
       "(173823, 9)"
      ]
     },
     "execution_count": 2,
     "metadata": {},
     "output_type": "execute_result"
    }
   ],
   "source": [
    "dataset = pd.read_csv('finished_processed.csv')\n",
    "print(dataset.keys())\n",
    "print(dataset.shape)\n",
    "dataset.drop(['backers_count', 'usd_pledged'], axis=1, inplace=True)\n",
    "target = dataset['state']\n",
    "features = dataset.drop(['state'], axis=1)\n",
    "features.shape\n",
    "#from sklearn.preprocessing import LabelEncoder\n",
    "#lb = LabelEncoder()\n",
    "#features = features.apply(lb.fit_transform)"
   ]
  },
  {
   "cell_type": "code",
   "execution_count": 3,
   "metadata": {},
   "outputs": [
    {
     "name": "stdout",
     "output_type": "stream",
     "text": [
      "(130367, 9)\n"
     ]
    }
   ],
   "source": [
    "X_train, X_test, y_train, y_test = train_test_split(features, target, random_state=1)\n",
    "print(X_train.shape)"
   ]
  },
  {
   "cell_type": "code",
   "execution_count": 4,
   "metadata": {},
   "outputs": [
    {
     "data": {
      "text/plain": [
       "RandomForestClassifier(bootstrap=True, class_weight=None, criterion='gini',\n",
       "            max_depth=None, max_features='auto', max_leaf_nodes=None,\n",
       "            min_impurity_decrease=0.0, min_impurity_split=None,\n",
       "            min_samples_leaf=1, min_samples_split=2,\n",
       "            min_weight_fraction_leaf=0.0, n_estimators=100, n_jobs=1,\n",
       "            oob_score=True, random_state=1, verbose=0, warm_start=False)"
      ]
     },
     "execution_count": 4,
     "metadata": {},
     "output_type": "execute_result"
    }
   ],
   "source": [
    "rf = RandomForestClassifier(n_estimators = 100, oob_score = True, random_state=1)\n",
    "rf.fit(X_train, y_train)"
   ]
  },
  {
   "cell_type": "code",
   "execution_count": 5,
   "metadata": {},
   "outputs": [
    {
     "name": "stdout",
     "output_type": "stream",
     "text": [
      "0.771078792342\n",
      "0.237590801353\n",
      "[('category', 0.24829047323000908), ('country', 0.014141371887226655), ('creator', 0.15671834565293541), ('currency', 0.012779945388289032), ('goal', 0.17979579977436405), ('staff_pick', 0.074970443950096902), ('location', 0.13955950262498942), ('blurb_length', 0.094272346447065003), ('duration', 0.079471771045024536)]\n"
     ]
    }
   ],
   "source": [
    "predicted = rf.predict(X_test)\n",
    "print(accuracy_score(y_test, predicted))\n",
    "print(1 - rf.oob_score_)\n",
    "importances = [(features.keys()[i], rf.feature_importances_[i]) for i in range(len(features.keys()))]\n",
    "print(importances)"
   ]
  },
  {
   "cell_type": "code",
   "execution_count": null,
   "metadata": {
    "scrolled": true
   },
   "outputs": [],
   "source": [
    "%%capture --no-stdout\n",
    "from collections import OrderedDict\n",
    "\n",
    "min_est = 10\n",
    "max_est = 100\n",
    "\n",
    "max_features = [0.2, 0.33, 0.5, 0.8, \"sqrt\", \"log2\", None]\n",
    "\n",
    "error_scores = OrderedDict((l, []) for l in max_features)\n",
    "\n",
    "for mf in max_features:\n",
    "    \n",
    "    rf_test = RandomForestClassifier(n_estimators = min_est, max_features = mf, oob_score = True, random_state = 1,\n",
    "                                     warm_start = True, n_jobs = -1)\n",
    "    for i in range(min_est, max_est + 1, 5):\n",
    "        rf_test.set_params(n_estimators = i)\n",
    "        rf_test.fit(X_train, y_train)\n",
    "        oob_error = 1 - rf_test.oob_score_\n",
    "        error_scores[mf].append((i, oob_error))\n",
    "        print(str(mf) + \": \" + str(i) + \", \" + str(oob_error))"
   ]
  },
  {
   "cell_type": "code",
   "execution_count": null,
   "metadata": {},
   "outputs": [],
   "source": [
    "plt.figure(figsize=(16,12))\n",
    "for mf, rf_err in error_scores.items():\n",
    "    xs, ys = zip(*rf_err)\n",
    "    plt.plot(xs, ys, label=str(mf))\n",
    "plt.xlim(min_est, max_est)\n",
    "plt.xlabel(\"n_estimators\")\n",
    "plt.ylabel(\"OOB Error Score\")\n",
    "plt.legend(title=\"max_features\", loc=\"upper right\")\n",
    "plt.show();"
   ]
  },
  {
   "cell_type": "code",
   "execution_count": null,
   "metadata": {},
   "outputs": [],
   "source": [
    "rf_optimized = RandomForestClassifier(n_estimators = 100, max_features = None, oob_score = True, random_state = 1,\n",
    "                                      min_samples_leaf=20, n_jobs = -1)\n",
    "rf_optimized.fit(X_train, y_train)\n",
    "predicted = rf_optimized.predict(X_test)\n",
    "print(accuracy_score(y_test, predicted))\n",
    "print(1 - rf_optimized.oob_score_)\n",
    "importances = [(features.keys()[i], rf_optimized.feature_importances_[i]) for i in range(len(features.keys()))]\n",
    "print(importances)"
   ]
  },
  {
   "cell_type": "code",
   "execution_count": 17,
   "metadata": {},
   "outputs": [
    {
     "data": {
      "text/plain": [
       "<matplotlib.axes._subplots.AxesSubplot at 0x25a8c514748>"
      ]
     },
     "execution_count": 17,
     "metadata": {},
     "output_type": "execute_result"
    },
    {
     "data": {
      "image/png": "[encoded data removed]",
      "text/plain": [
       "<matplotlib.figure.Figure at 0x25ad4963240>"
      ]
     },
     "metadata": {},
     "output_type": "display_data"
    }
   ],
   "source": [
    "from sklearn.metrics import confusion_matrix\n",
    "\n",
    "cfmtx = confusion_matrix(y_test, predicted)\n",
    "sns.heatmap(cfmtx, annot=True, fmt='g')"
   ]
  },
  {
   "cell_type": "code",
   "execution_count": 9,
   "metadata": {},
   "outputs": [
    {
     "name": "stdout",
     "output_type": "stream",
     "text": [
      "RandomizedSearchCV(cv=None, error_score='raise',\n",
      "          estimator=RandomForestClassifier(bootstrap=True, class_weight=None, criterion='gini',\n",
      "            max_depth=None, max_features='auto', max_leaf_nodes=None,\n",
      "            min_impurity_decrease=0.0, min_impurity_split=None,\n",
      "            min_samples_leaf=1, min_samples_split=2,\n",
      "            min_weight_fraction_leaf=0.0, n_estimators=100, n_jobs=1,\n",
      "            oob_score=False, random_state=None, verbose=0,\n",
      "            warm_start=False),\n",
      "          fit_params=None, iid=True, n_iter=20, n_jobs=-1,\n",
      "          param_distributions={'max_depth': [3, None], 'max_features': [0.8, 'sqrt', None], 'min_samples_split': <scipy.stats._distn_infrastructure.rv_frozen object at 0x0000025AD4A0E4A8>, 'min_samples_leaf': <scipy.stats._distn_infrastructure.rv_frozen object at 0x0000025AD4A0E5F8>, 'bootstrap': [True], 'criterion': ['gini', 'entropy']},\n",
      "          pre_dispatch='2*n_jobs', random_state=None, refit=True,\n",
      "          return_train_score='warn', scoring=None, verbose=0)\n",
      "0.790583506562\n",
      "RandomForestClassifier(bootstrap=True, class_weight=None, criterion='gini',\n",
      "            max_depth=None, max_features=None, max_leaf_nodes=None,\n",
      "            min_impurity_decrease=0.0, min_impurity_split=None,\n",
      "            min_samples_leaf=2, min_samples_split=9,\n",
      "            min_weight_fraction_leaf=0.0, n_estimators=100, n_jobs=1,\n",
      "            oob_score=False, random_state=None, verbose=0,\n",
      "            warm_start=False)\n"
     ]
    }
   ],
   "source": [
    "from sklearn.model_selection import RandomizedSearchCV\n",
    "from scipy.stats import randint as sp_randint\n",
    "\n",
    "rf = RandomForestClassifier(n_estimators=100)\n",
    "# We want to have bootstrap=True for oob_error\n",
    "param_dist = {\"max_depth\": [3, None],\n",
    "              \"max_features\": [0.8, \"sqrt\", None],\n",
    "              \"min_samples_split\": sp_randint(2, 15),\n",
    "              \"min_samples_leaf\": sp_randint(1, 15),\n",
    "              \"bootstrap\": [True],\n",
    "              \"criterion\": [\"gini\", \"entropy\"],\n",
    "              \"oob_score\": True,\n",
    "              \"n_jobs\": -1}\n",
    "rsearch = RandomizedSearchCV(estimator=rf, param_distributions=param_dist, n_iter=20, n_jobs=-1)\n",
    "rsearch.fit(X_train, y_train)\n",
    "print(rsearch)\n",
    "# summarize the results of the random parameter search\n",
    "print(rsearch.best_score_)\n",
    "print(rsearch.best_estimator_)"
   ]
  },
  {
   "cell_type": "code",
   "execution_count": 10,
   "metadata": {},
   "outputs": [
    {
     "name": "stdout",
     "output_type": "stream",
     "text": [
      "Model with rank: 1\n",
      "Mean validation score: 0.7906 (std: 0.0009)\n",
      "Parameters: {'bootstrap': True, 'criterion': 'gini', 'max_depth': None, 'max_features': None, 'min_samples_leaf': 2, 'min_samples_split': 9}\n",
      "\n",
      "Model with rank: 2\n",
      "Mean validation score: 0.7902 (std: 0.0007)\n",
      "Parameters: {'bootstrap': True, 'criterion': 'gini', 'max_depth': None, 'max_features': 0.8, 'min_samples_leaf': 11, 'min_samples_split': 6}\n",
      "\n",
      "Model with rank: 3\n",
      "Mean validation score: 0.7900 (std: 0.0003)\n",
      "Parameters: {'bootstrap': True, 'criterion': 'entropy', 'max_depth': None, 'max_features': 0.8, 'min_samples_leaf': 10, 'min_samples_split': 13}\n",
      "\n",
      "0.790583506562\n",
      "RandomForestClassifier(bootstrap=True, class_weight=None, criterion='gini',\n",
      "            max_depth=None, max_features=None, max_leaf_nodes=None,\n",
      "            min_impurity_decrease=0.0, min_impurity_split=None,\n",
      "            min_samples_leaf=2, min_samples_split=9,\n",
      "            min_weight_fraction_leaf=0.0, n_estimators=100, n_jobs=1,\n",
      "            oob_score=False, random_state=None, verbose=0,\n",
      "            warm_start=False)\n"
     ]
    }
   ],
   "source": [
    "def report(results, n_top=3):\n",
    "    for i in range(1, n_top + 1):\n",
    "        candidates = np.flatnonzero(results['rank_test_score'] == i)\n",
    "        for candidate in candidates:\n",
    "            print(\"Model with rank: {0}\".format(i))\n",
    "            print(\"Mean validation score: {0:.4f} (std: {1:.4f})\".format(\n",
    "                  results['mean_test_score'][candidate],\n",
    "                  results['std_test_score'][candidate]))\n",
    "            print(\"Parameters: {0}\".format(results['params'][candidate]))\n",
    "            print(\"\")\n",
    "\n",
    "report(rsearch.cv_results_)\n",
    "print(rsearch.best_score_)\n",
    "print(rsearch.best_estimator_)"
   ]
  },
  {
   "cell_type": "code",
   "execution_count": 16,
   "metadata": {
    "scrolled": true
   },
   "outputs": [
    {
     "name": "stdout",
     "output_type": "stream",
     "text": [
      "0.793469256259\n",
      "0.20848067379\n",
      "[('category', 0.35100844209546084), ('country', 0.011876867291368578), ('creator', 0.1149068364957988), ('currency', 0.013729537474838025), ('goal', 0.18751542382399194), ('staff_pick', 0.086042713142477079), ('location', 0.10292636726471269), ('blurb_length', 0.06413948782972459), ('duration', 0.067854324581627393)]\n"
     ]
    }
   ],
   "source": [
    "best = RandomForestClassifier(bootstrap=True, class_weight=None, criterion='gini',\n",
    "            max_depth=None, max_features=None, max_leaf_nodes=None,\n",
    "            min_impurity_decrease=0.0, min_impurity_split=None,\n",
    "            min_samples_leaf=2, min_samples_split=9,\n",
    "            min_weight_fraction_leaf=0.0, n_estimators=100, n_jobs=-1,\n",
    "            oob_score=True, random_state=1, verbose=0,\n",
    "            warm_start=False)\n",
    "best.fit(X_train, y_train)\n",
    "predicted = best.predict(X_test)\n",
    "print(accuracy_score(y_test, predicted))\n",
    "print(1 - best.oob_score_)\n",
    "importances = [(features.keys()[i], best.feature_importances_[i]) for i in range(len(features.keys()))]\n",
    "print(importances)"
   ]
  },
  {
   "cell_type": "code",
   "execution_count": 24,
   "metadata": {},
   "outputs": [
    {
     "name": "stdout",
     "output_type": "stream",
     "text": [
      "0.794527798233\n",
      "0.206501645355\n",
      "[('category', 0.37085172507793723), ('creator', 0.11595627023418338), ('goal', 0.19030821107255652), ('staff_pick', 0.08583368341131635), ('location', 0.10816449332986647), ('blurb_length', 0.063889564639056762), ('duration', 0.06499605223508341)]\n"
     ]
    }
   ],
   "source": [
    "features.drop(['country', 'currency'], axis=1, inplace=True)\n",
    "X_train, X_test, y_train, y_test = train_test_split(features, target, random_state=1)\n",
    "best.fit(X_train, y_train)\n",
    "predicted = best.predict(X_test)\n",
    "print(accuracy_score(y_test, predicted))\n",
    "print(1 - best.oob_score_)\n",
    "importances = [(features.keys()[i], best.feature_importances_[i]) for i in range(len(features.keys()))]\n",
    "print(importances)"
   ]
  }
 ],
 "metadata": {
  "kernelspec": {
   "display_name": "Python 3",
   "language": "python",
   "name": "python3"
  },
  "language_info": {
   "codemirror_mode": {
    "name": "ipython",
    "version": 3
   },
   "file_extension": ".py",
   "mimetype": "text/x-python",
   "name": "python",
   "nbconvert_exporter": "python",
   "pygments_lexer": "ipython3",
   "version": "3.6.4"
  }
 },
 "nbformat": 4,
 "nbformat_minor": 2
}
